{
 "cells": [
  {
   "cell_type": "markdown",
   "id": "7d9c09cd",
   "metadata": {},
   "source": [
    "# Proyecto 2"
   ]
  },
  {
   "cell_type": "markdown",
   "id": "6a91f0ae",
   "metadata": {},
   "source": [
    "## Resumen del proyecto "
   ]
  },
  {
   "cell_type": "markdown",
   "id": "e6d94fd1",
   "metadata": {},
   "source": [
    "Aplica transformación de datos y entrena Modelos Avanzados para desarrollar con mayor profundidad tu modelo de Machine Learning. ¿Qué puedes aprender del problema que estás abordando mediante el estudio de tu propio modelo?\n",
    "\n",
    "La realización y entrega del Proyecto es individual."
   ]
  },
  {
   "cell_type": "markdown",
   "id": "6aa42f3e",
   "metadata": {},
   "source": [
    "## Entregable "
   ]
  },
  {
   "cell_type": "markdown",
   "id": "07fd3d0f",
   "metadata": {},
   "source": [
    "Un Notebook de Jupyter con la resolución de la consigna. El Notebook debe poder ejecutarse sin errores."
   ]
  },
  {
   "cell_type": "markdown",
   "id": "bf12d8b3",
   "metadata": {},
   "source": [
    "## Consigna "
   ]
  },
  {
   "cell_type": "markdown",
   "id": "15fcfa0e",
   "metadata": {},
   "source": [
    "En este proyecto profundizarás lo desarrollado en el proyecto 01 (“Primer modelo de Machine Learning”). El objetivo es aplicar las técnicas incorporadas (Transformación de Datos, Optimización de Hiperparámetros, Modelos Avanzados, etc.) para generar un modelo que tenga un mejor desempeño que el modelo generado en el proyecto anterior. Luego, interpreta ese modelo para responder la siguiente pregunta: ¿qué podemos aprender de nuestro problema estudiando el modelo que generamos?"
   ]
  },
  {
   "cell_type": "markdown",
   "id": "81b208c5",
   "metadata": {},
   "source": [
    "## PARTE A - Transformación de Datos"
   ]
  },
  {
   "cell_type": "markdown",
   "id": "af216f38",
   "metadata": {},
   "source": [
    "Elige cuáles de las siguientes tareas son apropiadas para su dataset. Implementa las transformaciones que elegiste. Es importante que justifiques por qué las haces:\n",
    "\n",
    "* Detección y eliminación de Outliers\n",
    "* Encoding\n",
    "* Imputación de valores faltantes\n",
    "* Escalado de datos\n",
    "* Generación de nuevas variables predictoras/reducción de dimensionalidad (SVD/PCA)."
   ]
  },
  {
   "cell_type": "markdown",
   "id": "f2f0b601",
   "metadata": {},
   "source": [
    "## PARTE B - Modelos Avanzados"
   ]
  },
  {
   "cell_type": "markdown",
   "id": "d810108a",
   "metadata": {},
   "source": [
    "1. Elige dos de los modelos avanzados vistos Compara con el desempeño obtenido en el proyecto 01 (en el caso de regresión, considera una regresión lineal con atributos polinómicos y regularización). Entrénalos y evalúalos con sus argumentos por defecto. No te olvides de hacer un train/test split y usar Validación Cruzada.\n",
    "2. Optimiza sus hiperparámetros mediante Validación Cruzada y Grid Search o Random Search.\n",
    "3. Compara el desempeño de los nuevos modelos entre sí y con el modelo de la Parte A. ¿Cuál elegirías? Justifica."
   ]
  },
  {
   "cell_type": "markdown",
   "id": "7557378e",
   "metadata": {},
   "source": [
    "## PARTE C - Interpretación de modelos"
   ]
  },
  {
   "cell_type": "markdown",
   "id": "95602cc1",
   "metadata": {},
   "source": [
    "De acuerdo a lo que el modelo permite, responde algunas o todas las siguientes preguntas:\n",
    "\n",
    "* ¿Qué variables fueron relevantes para el modelo para hacer una predicción? ¿Cuáles no? Si usaste una regresión lineal con regularización, presta atención a los parámetros (pendientes) obtenidas. Si usaste un modelo de ensamble en árboles, además de ver la importancia de cada atributo, también elige algunos árboles al azar y observa qué atributos considera importantes. ¿En qué se diferencian esos árboles? ¿Por qué? Finalmente, responde, ¿coincide con lo que esperabas a partir de tu experiencia con este dataset?\n",
    "* ¿Cómo es la distribución de errores (regresión) o qué clases se confunden entre sí (clasificación)? ¿Dónde falla? ¿A qué se debe?"
   ]
  },
  {
   "cell_type": "markdown",
   "id": "1f62a98e",
   "metadata": {},
   "source": [
    "## DESAFÍO OPCIONAL"
   ]
  },
  {
   "cell_type": "markdown",
   "id": "03b6e327",
   "metadata": {},
   "source": [
    "Aplica una técnica de Clustering sobre el dataset. Puedes combinar con técnicas de reducción de dimensionalidad para facilitar la visualización. ¿Qué clusters encuentras? ¿A qué pueden corresponder? Te dejamos preguntas que pueden servir como disparadoras: ¿qué barrios se parecen más entre sí?¿qué tipos de propiedades se parecen más entre sí?"
   ]
  },
  {
   "cell_type": "code",
   "execution_count": 102,
   "id": "0cd5fde0",
   "metadata": {},
   "outputs": [],
   "source": [
    "import numpy as np\n",
    "import pandas as pd\n",
    "import matplotlib.pyplot as plt\n",
    "import seaborn as sns\n",
    "sns.set()\n",
    "from prettytable import PrettyTable\n",
    "from pandas import plotting\n",
    "from matplotlib.ticker import ScalarFormatter\n",
    "from matplotlib import gridspec\n",
    "from sklearn.metrics import r2_score\n",
    "from sklearn.model_selection import train_test_split\n",
    "from sklearn.linear_model import LinearRegression\n",
    "from sklearn.neighbors import LocalOutlierFactor\n",
    "from sklearn.metrics import mean_absolute_error\n",
    "from sklearn.metrics import mean_squared_error\n",
    "import math\n",
    "from sklearn.impute import SimpleImputer\n",
    "from sklearn.pipeline import Pipeline\n",
    "from sklearn.tree import DecisionTreeRegressor\n",
    "from sklearn.ensemble import RandomForestRegressor\n",
    "from sklearn.model_selection import RepeatedStratifiedKFold\n",
    "from sklearn.model_selection import cross_val_score\n",
    "from sklearn.impute import KNNImputer\n",
    "from sklearn.experimental import enable_iterative_imputer\n",
    "from sklearn.impute import IterativeImputer\n",
    "from sklearn.preprocessing import LabelEncoder\n",
    "from sklearn.pipeline import Pipeline\n",
    "from sklearn.decomposition import PCA\n",
    "from sklearn.decomposition import TruncatedSVD\n",
    "\n",
    "import xgboost as xgb\n",
    "from xgboost import plot_importance\n",
    "from sklearn.ensemble import RandomForestRegressor\n",
    "from sklearn import tree as Arbol\n",
    "from sklearn.tree import export_graphviz\n",
    "from sklearn.ensemble import BaggingRegressor\n",
    "from sklearn.ensemble import AdaBoostRegressor\n",
    "\n",
    "\n",
    "\n",
    "from sklearn.ensemble import StackingRegressor\n",
    "from sklearn.linear_model import LinearRegression\n",
    "from sklearn.neighbors import KNeighborsRegressor\n",
    "from sklearn.tree import DecisionTreeRegressor\n",
    "from sklearn.linear_model import LogisticRegression\n",
    "\n",
    "from sklearn.model_selection import GridSearchCV\n",
    "from sklearn.model_selection import RandomizedSearchCV\n",
    "from sklearn.cluster import KMeans\n",
    "\n",
    "\n",
    "\n",
    "#Librerias a instalar\n",
    "import sys\n",
    "import pandas_profiling as pdp\n",
    "import gc\n"
   ]
  },
  {
   "cell_type": "code",
   "execution_count": 103,
   "id": "b5f895d6",
   "metadata": {},
   "outputs": [
    {
     "data": {
      "text/html": [
       "<div>\n",
       "<style scoped>\n",
       "    .dataframe tbody tr th:only-of-type {\n",
       "        vertical-align: middle;\n",
       "    }\n",
       "\n",
       "    .dataframe tbody tr th {\n",
       "        vertical-align: top;\n",
       "    }\n",
       "\n",
       "    .dataframe thead th {\n",
       "        text-align: right;\n",
       "    }\n",
       "</style>\n",
       "<table border=\"1\" class=\"dataframe\">\n",
       "  <thead>\n",
       "    <tr style=\"text-align: right;\">\n",
       "      <th></th>\n",
       "      <th>start_date</th>\n",
       "      <th>end_date</th>\n",
       "      <th>created_on</th>\n",
       "      <th>lat</th>\n",
       "      <th>lon</th>\n",
       "      <th>l1</th>\n",
       "      <th>l2</th>\n",
       "      <th>l3</th>\n",
       "      <th>rooms</th>\n",
       "      <th>bedrooms</th>\n",
       "      <th>bathrooms</th>\n",
       "      <th>surface_total</th>\n",
       "      <th>surface_covered</th>\n",
       "      <th>price</th>\n",
       "      <th>currency</th>\n",
       "      <th>title</th>\n",
       "      <th>description</th>\n",
       "      <th>property_type</th>\n",
       "      <th>operation_type</th>\n",
       "    </tr>\n",
       "  </thead>\n",
       "  <tbody>\n",
       "    <tr>\n",
       "      <th>0</th>\n",
       "      <td>2019-10-17</td>\n",
       "      <td>2019-12-23</td>\n",
       "      <td>2019-10-17</td>\n",
       "      <td>-34.605880</td>\n",
       "      <td>-58.384949</td>\n",
       "      <td>Argentina</td>\n",
       "      <td>Capital Federal</td>\n",
       "      <td>San Cristobal</td>\n",
       "      <td>7.0</td>\n",
       "      <td>7.0</td>\n",
       "      <td>2.0</td>\n",
       "      <td>140.0</td>\n",
       "      <td>140.0</td>\n",
       "      <td>153000.0</td>\n",
       "      <td>USD</td>\n",
       "      <td>***Venta semipiso centro, ideal hostel*****</td>\n",
       "      <td>DESCRIPCION DE LA PROPIEDAD: Departamento de 1...</td>\n",
       "      <td>Departamento</td>\n",
       "      <td>Venta</td>\n",
       "    </tr>\n",
       "    <tr>\n",
       "      <th>1</th>\n",
       "      <td>2019-10-17</td>\n",
       "      <td>2019-11-21</td>\n",
       "      <td>2019-10-17</td>\n",
       "      <td>-34.624056</td>\n",
       "      <td>-58.412110</td>\n",
       "      <td>Argentina</td>\n",
       "      <td>Capital Federal</td>\n",
       "      <td>Boedo</td>\n",
       "      <td>2.0</td>\n",
       "      <td>1.0</td>\n",
       "      <td>2.0</td>\n",
       "      <td>70.0</td>\n",
       "      <td>58.0</td>\n",
       "      <td>159000.0</td>\n",
       "      <td>USD</td>\n",
       "      <td>Espectacular PH reciclado en Boedo sin expensas.</td>\n",
       "      <td>PH reciclado en Boedo a una cuadra de la plaz...</td>\n",
       "      <td>PH</td>\n",
       "      <td>Venta</td>\n",
       "    </tr>\n",
       "    <tr>\n",
       "      <th>2</th>\n",
       "      <td>2019-10-17</td>\n",
       "      <td>2019-11-01</td>\n",
       "      <td>2019-10-17</td>\n",
       "      <td>-34.593569</td>\n",
       "      <td>-58.427474</td>\n",
       "      <td>Argentina</td>\n",
       "      <td>Capital Federal</td>\n",
       "      <td>Palermo</td>\n",
       "      <td>2.0</td>\n",
       "      <td>1.0</td>\n",
       "      <td>1.0</td>\n",
       "      <td>45.0</td>\n",
       "      <td>45.0</td>\n",
       "      <td>125000.0</td>\n",
       "      <td>USD</td>\n",
       "      <td>Depto.tipo casa de 2 ambientes en Venta en Pal...</td>\n",
       "      <td>2 ambienets amplio , excelente estado , patio ...</td>\n",
       "      <td>PH</td>\n",
       "      <td>Venta</td>\n",
       "    </tr>\n",
       "    <tr>\n",
       "      <th>3</th>\n",
       "      <td>2019-10-17</td>\n",
       "      <td>2019-12-23</td>\n",
       "      <td>2019-10-17</td>\n",
       "      <td>-34.581294</td>\n",
       "      <td>-58.436754</td>\n",
       "      <td>Argentina</td>\n",
       "      <td>Capital Federal</td>\n",
       "      <td>Palermo</td>\n",
       "      <td>2.0</td>\n",
       "      <td>1.0</td>\n",
       "      <td>1.0</td>\n",
       "      <td>85.0</td>\n",
       "      <td>50.0</td>\n",
       "      <td>295000.0</td>\n",
       "      <td>USD</td>\n",
       "      <td>COSTA RICA 5800 / PALERMO HOLLYWOOD / VENTA PH...</td>\n",
       "      <td>HERMOSO PH EN PALERMO!!!2 AMBIENTES TOTALMENTE...</td>\n",
       "      <td>PH</td>\n",
       "      <td>Venta</td>\n",
       "    </tr>\n",
       "    <tr>\n",
       "      <th>4</th>\n",
       "      <td>2019-10-17</td>\n",
       "      <td>2020-03-11</td>\n",
       "      <td>2019-10-17</td>\n",
       "      <td>-34.914194</td>\n",
       "      <td>-57.938219</td>\n",
       "      <td>Argentina</td>\n",
       "      <td>Bs.As. G.B.A. Zona Sur</td>\n",
       "      <td>La Plata</td>\n",
       "      <td>2.0</td>\n",
       "      <td>1.0</td>\n",
       "      <td>1.0</td>\n",
       "      <td>50.0</td>\n",
       "      <td>35.0</td>\n",
       "      <td>40000.0</td>\n",
       "      <td>USD</td>\n",
       "      <td>58 entre 1 y 2  Venta de departamento en ph.1 ...</td>\n",
       "      <td>58 entre 1 y 2  Venta de departamento en PH. P...</td>\n",
       "      <td>PH</td>\n",
       "      <td>Venta</td>\n",
       "    </tr>\n",
       "  </tbody>\n",
       "</table>\n",
       "</div>"
      ],
      "text/plain": [
       "   start_date    end_date  created_on        lat        lon         l1  \\\n",
       "0  2019-10-17  2019-12-23  2019-10-17 -34.605880 -58.384949  Argentina   \n",
       "1  2019-10-17  2019-11-21  2019-10-17 -34.624056 -58.412110  Argentina   \n",
       "2  2019-10-17  2019-11-01  2019-10-17 -34.593569 -58.427474  Argentina   \n",
       "3  2019-10-17  2019-12-23  2019-10-17 -34.581294 -58.436754  Argentina   \n",
       "4  2019-10-17  2020-03-11  2019-10-17 -34.914194 -57.938219  Argentina   \n",
       "\n",
       "                       l2             l3  rooms  bedrooms  bathrooms  \\\n",
       "0         Capital Federal  San Cristobal    7.0       7.0        2.0   \n",
       "1         Capital Federal          Boedo    2.0       1.0        2.0   \n",
       "2         Capital Federal        Palermo    2.0       1.0        1.0   \n",
       "3         Capital Federal        Palermo    2.0       1.0        1.0   \n",
       "4  Bs.As. G.B.A. Zona Sur       La Plata    2.0       1.0        1.0   \n",
       "\n",
       "   surface_total  surface_covered     price currency  \\\n",
       "0          140.0            140.0  153000.0      USD   \n",
       "1           70.0             58.0  159000.0      USD   \n",
       "2           45.0             45.0  125000.0      USD   \n",
       "3           85.0             50.0  295000.0      USD   \n",
       "4           50.0             35.0   40000.0      USD   \n",
       "\n",
       "                                               title  \\\n",
       "0        ***Venta semipiso centro, ideal hostel*****   \n",
       "1   Espectacular PH reciclado en Boedo sin expensas.   \n",
       "2  Depto.tipo casa de 2 ambientes en Venta en Pal...   \n",
       "3  COSTA RICA 5800 / PALERMO HOLLYWOOD / VENTA PH...   \n",
       "4  58 entre 1 y 2  Venta de departamento en ph.1 ...   \n",
       "\n",
       "                                         description property_type  \\\n",
       "0  DESCRIPCION DE LA PROPIEDAD: Departamento de 1...  Departamento   \n",
       "1   PH reciclado en Boedo a una cuadra de la plaz...            PH   \n",
       "2  2 ambienets amplio , excelente estado , patio ...            PH   \n",
       "3  HERMOSO PH EN PALERMO!!!2 AMBIENTES TOTALMENTE...            PH   \n",
       "4  58 entre 1 y 2  Venta de departamento en PH. P...            PH   \n",
       "\n",
       "  operation_type  \n",
       "0          Venta  \n",
       "1          Venta  \n",
       "2          Venta  \n",
       "3          Venta  \n",
       "4          Venta  "
      ]
     },
     "execution_count": 103,
     "metadata": {},
     "output_type": "execute_result"
    }
   ],
   "source": [
    "dp= pd.read_csv('DS_Proyecto_01_Datos_Properati.csv')\n",
    "dp = pd.DataFrame(dp)\n",
    "dp.head()"
   ]
  },
  {
   "cell_type": "code",
   "execution_count": 3,
   "id": "0a142561",
   "metadata": {},
   "outputs": [
    {
     "data": {
      "text/plain": [
       "(146660, 19)"
      ]
     },
     "execution_count": 3,
     "metadata": {},
     "output_type": "execute_result"
    }
   ],
   "source": [
    "dp.shape\n"
   ]
  },
  {
   "cell_type": "code",
   "execution_count": 4,
   "id": "6a19e4fa",
   "metadata": {},
   "outputs": [
    {
     "name": "stdout",
     "output_type": "stream",
     "text": [
      "['start_date', 'end_date', 'created_on', 'lat', 'lon', 'l1', 'l2', 'l3', 'rooms', 'bedrooms', 'bathrooms', 'surface_total', 'surface_covered', 'price', 'currency', 'title', 'description', 'property_type', 'operation_type']\n"
     ]
    }
   ],
   "source": [
    "print(list(dp.columns))"
   ]
  },
  {
   "cell_type": "markdown",
   "id": "69d39705",
   "metadata": {},
   "source": [
    "### Tipos de propiedades "
   ]
  },
  {
   "cell_type": "code",
   "execution_count": 5,
   "id": "7a4d892a",
   "metadata": {},
   "outputs": [
    {
     "name": "stdout",
     "output_type": "stream",
     "text": [
      "['Departamento' 'PH' 'Casa' 'Lote' 'Casa de campo' 'Oficina' 'Otro'\n",
      " 'Local comercial' 'Cochera' 'Depósito']\n",
      "Departamento       107326\n",
      "Casa                21521\n",
      "PH                  14298\n",
      "Lote                 1312\n",
      "Oficina               658\n",
      "Otro                  374\n",
      "Local comercial       325\n",
      "Casa de campo         322\n",
      "Depósito              265\n",
      "Cochera               259\n",
      "Name: property_type, dtype: int64\n"
     ]
    },
    {
     "data": {
      "text/plain": [
       "[None]"
      ]
     },
     "execution_count": 5,
     "metadata": {},
     "output_type": "execute_result"
    }
   ],
   "source": [
    "print(dp['property_type'].unique()) \n",
    "print(dp['property_type'].value_counts())\n",
    "fig, ax= plt.subplots(figsize= (9,7))\n",
    "gr=sns.countplot(data = dp, y = \"property_type\", ax=ax)\n",
    "gr.set(xscale='log')"
   ]
  },
  {
   "cell_type": "markdown",
   "id": "da3ac57b",
   "metadata": {},
   "source": [
    "En este grafico veremos las regiones donde se encuentran las propiedades"
   ]
  },
  {
   "cell_type": "code",
   "execution_count": 6,
   "id": "9ee3d49b",
   "metadata": {},
   "outputs": [
    {
     "name": "stderr",
     "output_type": "stream",
     "text": [
      "<ipython-input-6-aa738712869f>:19: UserWarning: Matplotlib is currently using agg, which is a non-GUI backend, so cannot show the figure.\n",
      "  plt.show()\n",
      "C:\\Users\\LENOVO\\anaconda3\\envs\\datascience\\lib\\site-packages\\IPython\\core\\events.py:89: UserWarning: There are no gridspecs with layoutgrids. Possibly did not call parent GridSpec with the \"figure\" keyword\n",
      "  func(*args, **kwargs)\n"
     ]
    }
   ],
   "source": [
    "fig= plt.subplots(figsize=(20,18),constrained_layout=True)\n",
    "grid = gridspec.GridSpec(2, 1, height_ratios=[1, 3])\n",
    "\n",
    "ax1=plt.subplot(grid[0])\n",
    "sns.countplot(data=dp,y=\"l2\",order=dp[\"l2\"].value_counts().index,ax=ax1,color=\"g\")\n",
    "\n",
    "ax1.set_yticklabels(ax1.get_yticklabels(),fontsize=\"medium\")\n",
    "ax1.set_title(\"Distribucion segun el G.B.A.\", fontsize= 'large')\n",
    "\n",
    "ax2=plt.subplot(grid[1])\n",
    "sns.countplot(data=dp,x=\"l3\",order=dp[\"l3\"].value_counts().index,ax=ax2,color=\"b\")\n",
    "\n",
    "\n",
    "ax2.set_title(\"Distribucion segun barrios\", fontsize= 'large')\n",
    "ax2.set_xticklabels(ax2.get_xticklabels(),rotation=90,ha=\"right\")\n",
    "plt.yticks(fontsize= 11)\n",
    "ax1.grid()\n",
    "ax2.grid()\n",
    "plt.show()"
   ]
  },
  {
   "cell_type": "code",
   "execution_count": 7,
   "id": "955e8ad0",
   "metadata": {},
   "outputs": [
    {
     "data": {
      "text/plain": [
       "start_date             0\n",
       "end_date               0\n",
       "created_on             0\n",
       "lat                 9925\n",
       "lon                 9959\n",
       "l1                     0\n",
       "l2                     0\n",
       "l3                     0\n",
       "rooms                  0\n",
       "bedrooms               0\n",
       "bathrooms           5957\n",
       "surface_total      20527\n",
       "surface_covered    21614\n",
       "price                  0\n",
       "currency               0\n",
       "title                  0\n",
       "description            0\n",
       "property_type          0\n",
       "operation_type         0\n",
       "dtype: int64"
      ]
     },
     "execution_count": 7,
     "metadata": {},
     "output_type": "execute_result"
    }
   ],
   "source": [
    "dp.isnull().sum()"
   ]
  },
  {
   "cell_type": "code",
   "execution_count": 8,
   "id": "8227046a",
   "metadata": {},
   "outputs": [
    {
     "data": {
      "text/plain": [
       "array(['Departamento', 'PH', 'Casa', 'Lote', 'Casa de campo', 'Oficina',\n",
       "       'Otro', 'Local comercial', 'Cochera', 'Depósito'], dtype=object)"
      ]
     },
     "execution_count": 8,
     "metadata": {},
     "output_type": "execute_result"
    }
   ],
   "source": [
    "dp[\"property_type\"].unique()"
   ]
  },
  {
   "cell_type": "code",
   "execution_count": 9,
   "id": "18cc2279",
   "metadata": {},
   "outputs": [
    {
     "data": {
      "text/plain": [
       "Departamento       107326\n",
       "Casa                21521\n",
       "PH                  14298\n",
       "Lote                 1312\n",
       "Oficina               658\n",
       "Otro                  374\n",
       "Local comercial       325\n",
       "Casa de campo         322\n",
       "Depósito              265\n",
       "Cochera               259\n",
       "Name: property_type, dtype: int64"
      ]
     },
     "execution_count": 9,
     "metadata": {},
     "output_type": "execute_result"
    }
   ],
   "source": [
    "dp[\"property_type\"].value_counts()"
   ]
  },
  {
   "cell_type": "code",
   "execution_count": 10,
   "id": "4fb326d9",
   "metadata": {},
   "outputs": [
    {
     "data": {
      "text/plain": [
       "(91485, 19)"
      ]
     },
     "execution_count": 10,
     "metadata": {},
     "output_type": "execute_result"
    }
   ],
   "source": [
    "dp = dp[((dp['property_type'] == \"Departamento\") |(dp['property_type'] == \"Casa\") | (dp['property_type'] == \"PH\"))  & (dp['l2'] == \"Capital Federal\")] \n",
    "dp.shape"
   ]
  },
  {
   "cell_type": "markdown",
   "id": "60f3fef3",
   "metadata": {},
   "source": [
    "Ajustamos la superficie ya que hay demasiados valores que van contra la logica, asi que pueden ser corregidos como los valores de superficie cubierta menores a la superficie total "
   ]
  },
  {
   "cell_type": "code",
   "execution_count": 11,
   "id": "a38b71cf",
   "metadata": {},
   "outputs": [
    {
     "name": "stderr",
     "output_type": "stream",
     "text": [
      "<ipython-input-11-2d08eee9042b>:3: UserWarning: Matplotlib is currently using agg, which is a non-GUI backend, so cannot show the figure.\n",
      "  plt.show()\n",
      "C:\\Users\\LENOVO\\anaconda3\\envs\\datascience\\lib\\site-packages\\IPython\\core\\events.py:89: UserWarning: There are no gridspecs with layoutgrids. Possibly did not call parent GridSpec with the \"figure\" keyword\n",
      "  func(*args, **kwargs)\n"
     ]
    }
   ],
   "source": [
    "sns.scatterplot(data=dp, x='surface_total', y='surface_covered')\n",
    "plt.grid()\n",
    "plt.show()"
   ]
  },
  {
   "cell_type": "code",
   "execution_count": 12,
   "id": "6a7eecbb",
   "metadata": {},
   "outputs": [],
   "source": [
    "dp.drop(dp.loc[dp['surface_covered'] > dp['surface_total']].index,inplace=True ,axis=0)"
   ]
  },
  {
   "cell_type": "code",
   "execution_count": 13,
   "id": "3c1c3568",
   "metadata": {},
   "outputs": [
    {
     "name": "stderr",
     "output_type": "stream",
     "text": [
      "<ipython-input-13-2d08eee9042b>:3: UserWarning: Matplotlib is currently using agg, which is a non-GUI backend, so cannot show the figure.\n",
      "  plt.show()\n",
      "C:\\Users\\LENOVO\\anaconda3\\envs\\datascience\\lib\\site-packages\\IPython\\core\\events.py:89: UserWarning: There are no gridspecs with layoutgrids. Possibly did not call parent GridSpec with the \"figure\" keyword\n",
      "  func(*args, **kwargs)\n"
     ]
    }
   ],
   "source": [
    "sns.scatterplot(data=dp, x='surface_total', y='surface_covered')\n",
    "plt.grid()\n",
    "plt.show()"
   ]
  },
  {
   "cell_type": "code",
   "execution_count": 14,
   "id": "d802c79f",
   "metadata": {},
   "outputs": [
    {
     "data": {
      "text/plain": [
       "(90725, 19)"
      ]
     },
     "execution_count": 14,
     "metadata": {},
     "output_type": "execute_result"
    }
   ],
   "source": [
    "dp.shape"
   ]
  },
  {
   "cell_type": "markdown",
   "id": "c5132385",
   "metadata": {},
   "source": [
    "### Identificacion de columnas con un solo valor "
   ]
  },
  {
   "cell_type": "code",
   "execution_count": 15,
   "id": "fadd0d46",
   "metadata": {},
   "outputs": [
    {
     "name": "stdout",
     "output_type": "stream",
     "text": [
      "0 362\n",
      "1 408\n",
      "2 362\n",
      "3 31132\n",
      "4 31401\n",
      "5 1\n",
      "6 1\n",
      "7 57\n",
      "8 19\n",
      "9 16\n",
      "10 14\n",
      "11 716\n",
      "12 572\n",
      "13 5179\n",
      "14 1\n",
      "15 42579\n",
      "16 57932\n",
      "17 3\n",
      "18 1\n"
     ]
    }
   ],
   "source": [
    "for i in range(dp.shape[1]):\n",
    "    print(i,len(pd.unique(dp.iloc[:,i])))"
   ]
  },
  {
   "cell_type": "markdown",
   "id": "a4cfb084",
   "metadata": {},
   "source": [
    "Ya que los valores con valores unicos tienen cero varianza y pueden afectar al entrenamiento del algoritmo se decide eliminar las variables L1, L2, currency y Operation_type "
   ]
  },
  {
   "cell_type": "code",
   "execution_count": 16,
   "id": "eda997eb",
   "metadata": {},
   "outputs": [],
   "source": [
    "dp = dp.drop([\"l1\",\"l2\",\"currency\",\"operation_type\"],axis=1)"
   ]
  },
  {
   "cell_type": "code",
   "execution_count": 17,
   "id": "ab0d60c5",
   "metadata": {},
   "outputs": [
    {
     "data": {
      "text/plain": [
       "Index(['start_date', 'end_date', 'created_on', 'lat', 'lon', 'l3', 'rooms',\n",
       "       'bedrooms', 'bathrooms', 'surface_total', 'surface_covered', 'price',\n",
       "       'title', 'description', 'property_type'],\n",
       "      dtype='object')"
      ]
     },
     "execution_count": 17,
     "metadata": {},
     "output_type": "execute_result"
    }
   ],
   "source": [
    "dp.columns\n"
   ]
  },
  {
   "cell_type": "markdown",
   "id": "3800a810",
   "metadata": {},
   "source": [
    "### Identificacion de columnas con pocos valores "
   ]
  },
  {
   "cell_type": "code",
   "execution_count": 18,
   "id": "6723a7c3",
   "metadata": {},
   "outputs": [
    {
     "name": "stdout",
     "output_type": "stream",
     "text": [
      "0, 362, 0.4%\n",
      "1, 408, 0.4%\n",
      "2, 362, 0.4%\n",
      "3, 31132, 34.3%\n",
      "4, 31401, 34.6%\n",
      "5, 57, 0.1%\n",
      "6, 19, 0.0%\n",
      "7, 16, 0.0%\n",
      "8, 14, 0.0%\n",
      "9, 716, 0.8%\n",
      "10, 572, 0.6%\n",
      "11, 5179, 5.7%\n",
      "12, 42579, 46.9%\n",
      "13, 57932, 63.9%\n",
      "14, 3, 0.0%\n"
     ]
    }
   ],
   "source": [
    "for i in range(dp.shape[1]):\n",
    "    num=len(pd.unique(dp.iloc[:,i]))\n",
    "    porcentaje=float(num)/dp.shape[0]*100\n",
    "    print(\"%d, %d, %.1f%%\"%(i,num,porcentaje))"
   ]
  },
  {
   "cell_type": "markdown",
   "id": "6ea5e2d7",
   "metadata": {},
   "source": [
    "Debido a que solo se esta trabajando con 3 tipos de propiedad la columna property_type es muy pequeña "
   ]
  },
  {
   "cell_type": "markdown",
   "id": "27b710ed",
   "metadata": {},
   "source": [
    "### Identificacion de filas con datos duplicados "
   ]
  },
  {
   "cell_type": "code",
   "execution_count": 19,
   "id": "3e318524",
   "metadata": {},
   "outputs": [
    {
     "name": "stdout",
     "output_type": "stream",
     "text": [
      "True\n",
      "        start_date    end_date  created_on        lat        lon  \\\n",
      "7       2019-10-17  2019-10-31  2019-10-17 -34.600988 -58.433061   \n",
      "9       2019-10-17  2019-12-23  2019-10-17 -34.639598 -58.419612   \n",
      "40      2019-10-17  2019-10-22  2019-10-17 -34.597613 -58.416688   \n",
      "48      2019-10-17  2019-10-27  2019-10-17 -34.597613 -58.416688   \n",
      "51      2019-10-17  2019-11-15  2019-10-17 -34.577746 -58.431085   \n",
      "...            ...         ...         ...        ...        ...   \n",
      "146162  2019-07-31  2019-08-14  2019-07-31 -34.578066 -58.426532   \n",
      "146171  2019-07-31  2019-08-14  2019-07-31 -34.578066 -58.426532   \n",
      "146173  2019-07-31  2019-09-04  2019-07-31 -34.575165 -58.431149   \n",
      "146497  2019-07-31  2019-09-04  2019-07-31        NaN        NaN   \n",
      "146546  2019-07-31  2020-01-17  2019-07-31        NaN        NaN   \n",
      "\n",
      "                      l3  rooms  bedrooms  bathrooms  surface_total  \\\n",
      "7           Villa Crespo    2.0       1.0        1.0           70.0   \n",
      "9       Parque Patricios    1.0       1.0        1.0           45.0   \n",
      "40               Palermo    2.0       1.0        1.0           49.0   \n",
      "48               Palermo    2.0       1.0        1.0           49.0   \n",
      "51               Palermo    2.0       1.0        1.0           46.0   \n",
      "...                  ...    ...       ...        ...            ...   \n",
      "146162           Palermo    2.0       1.0        1.0           45.0   \n",
      "146171           Palermo    3.0       2.0        2.0           72.0   \n",
      "146173           Palermo    4.0       3.0        2.0           75.0   \n",
      "146497           Palermo    2.0       1.0        1.0           62.0   \n",
      "146546           Palermo    3.0       2.0        2.0           89.0   \n",
      "\n",
      "        surface_covered     price  \\\n",
      "7                  70.0  159500.0   \n",
      "9                  37.0   89000.0   \n",
      "40                 41.0  169000.0   \n",
      "48                 41.0  169000.0   \n",
      "51                 40.0  145000.0   \n",
      "...                 ...       ...   \n",
      "146162             41.0  150000.0   \n",
      "146171             67.0  224999.0   \n",
      "146173             75.0  205000.0   \n",
      "146497             58.0  168000.0   \n",
      "146546             82.0  434999.0   \n",
      "\n",
      "                                                    title  \\\n",
      "7       Depto.tipo casa de 2 ambientes en Venta en Vil...   \n",
      "9       PH SIN EXPENSAS, AMPLIO MONOAMBIENTE DIVISIBLE...   \n",
      "40      Oportunidad - CON COCHERA !! Excelente ubicaci...   \n",
      "48      Oportunidad - CON COCHERA !! Excelente ubicaci...   \n",
      "51      U$S 145.000 - 2 amb en Duplex - Palermo - Char...   \n",
      "...                                                   ...   \n",
      "146162                               Torre Fitz Roy 2 amb   \n",
      "146171  Duplex con excelentes vistas panorámicas de la...   \n",
      "146173  Venta. Departamento. 4 Ambientes. 75m². Bajas ...   \n",
      "146497  VENTA LANZAMIENTO - DOS AMBIENTES - PALERMO HO...   \n",
      "146546            Quo Palermo 3 amb a la venta a estrenar   \n",
      "\n",
      "                                              description property_type  \n",
      "7       Muy lindo PH, con terraza propia, 96m2! por es...            PH  \n",
      "9       VENTA DE PH, EN EXCELENTE ESTADO, EN PARQUE PA...            PH  \n",
      "40      Para Visitarlo contactarse al 01161534481 Mart...  Departamento  \n",
      "48      Para Visitarlo contactarse al 01161534481 Mart...  Departamento  \n",
      "51      Charcas 5200Palermo2 ambientes en Dúplex.45.68...  Departamento  \n",
      "...                                                   ...           ...  \n",
      "146162  Amplio departamento de 1amb y medio divible A ...  Departamento  \n",
      "146171  UNIDAD RETASADA SE LE BAJARON u$s 20.000 (Escu...  Departamento  \n",
      "146173  CARACTERÍSTICAS- Ambientes: 4.- Superficie tot...  Departamento  \n",
      "146497  ******LANZAMIENTO DESDE EL POZO, UBICADO EN LA...  Departamento  \n",
      "146546  Edifico Quo Palermo Paraguay 4445Piso alto 81m...  Departamento  \n",
      "\n",
      "[1611 rows x 15 columns]\n"
     ]
    }
   ],
   "source": [
    "duplicado = dp.duplicated()\n",
    "print(duplicado.any())\n",
    "print(dp[duplicado])"
   ]
  },
  {
   "cell_type": "markdown",
   "id": "96ed2faa",
   "metadata": {},
   "source": [
    "Se conciderará valores duplicados a los que tengan todos los valores iguales en todas las columnas "
   ]
  },
  {
   "cell_type": "markdown",
   "id": "c75453e9",
   "metadata": {},
   "source": [
    "### Eliminacion de Filas Duplicadas"
   ]
  },
  {
   "cell_type": "code",
   "execution_count": 20,
   "id": "4326a771",
   "metadata": {},
   "outputs": [
    {
     "name": "stdout",
     "output_type": "stream",
     "text": [
      "(90725, 15)\n",
      "(89114, 15)\n"
     ]
    }
   ],
   "source": [
    "print(dp.shape)\n",
    "dp.drop_duplicates(inplace=True)\n",
    "print(dp.shape)"
   ]
  },
  {
   "cell_type": "code",
   "execution_count": 21,
   "id": "b5a33f5f",
   "metadata": {},
   "outputs": [],
   "source": [
    "dp = dp.drop([\"start_date\",\"end_date\",\"title\",\"description\"],axis=1)"
   ]
  },
  {
   "cell_type": "code",
   "execution_count": 22,
   "id": "fa13df6a",
   "metadata": {},
   "outputs": [
    {
     "data": {
      "text/plain": [
       "<AxesSubplot:>"
      ]
     },
     "execution_count": 22,
     "metadata": {},
     "output_type": "execute_result"
    }
   ],
   "source": [
    "fig =plt.subplots(figsize=(8,8))\n",
    "sns.heatmap(dp.corr(), annot=True)"
   ]
  },
  {
   "cell_type": "markdown",
   "id": "bd7205bb",
   "metadata": {},
   "source": [
    "## Imputacion de valores faltantes "
   ]
  },
  {
   "cell_type": "code",
   "execution_count": 23,
   "id": "062f4442",
   "metadata": {},
   "outputs": [],
   "source": [
    "dp1 = dp.copy()"
   ]
  },
  {
   "cell_type": "code",
   "execution_count": 24,
   "id": "0c13ef18",
   "metadata": {},
   "outputs": [
    {
     "data": {
      "text/plain": [
       "created_on            0\n",
       "lat                4376\n",
       "lon                4390\n",
       "l3                    0\n",
       "rooms                 0\n",
       "bedrooms              0\n",
       "bathrooms          2139\n",
       "surface_total      8717\n",
       "surface_covered    9024\n",
       "price                 0\n",
       "property_type         0\n",
       "dtype: int64"
      ]
     },
     "execution_count": 24,
     "metadata": {},
     "output_type": "execute_result"
    }
   ],
   "source": [
    "dp1.isnull().sum()"
   ]
  },
  {
   "cell_type": "markdown",
   "id": "e8e38c85",
   "metadata": {},
   "source": [
    "### Imputacion Estadistica"
   ]
  },
  {
   "cell_type": "code",
   "execution_count": 25,
   "id": "a64bb2ad",
   "metadata": {},
   "outputs": [],
   "source": [
    "X= dp[[\"rooms\", \"bedrooms\", \"bathrooms\", \"surface_total\", \"surface_covered\"]].copy()\n",
    "y= dp[[\"price\"]].copy()"
   ]
  },
  {
   "cell_type": "markdown",
   "id": "f67d3c23",
   "metadata": {},
   "source": [
    "## Imputacion estadistica "
   ]
  },
  {
   "cell_type": "code",
   "execution_count": 26,
   "id": "42c31e37",
   "metadata": {},
   "outputs": [
    {
     "name": "stdout",
     "output_type": "stream",
     "text": [
      "+---------------+-------------------+--------------------+--------------------+--------------------+\n",
      "|    Field 1    |      Field 2      |      Field 3       |      Field 4       |      Field 5       |\n",
      "+---------------+-------------------+--------------------+--------------------+--------------------+\n",
      "|      mean     | 81978.28332435367 | 248935.3762235474  | 0.9257390779408119 | 0.5218848083806721 |\n",
      "|     median    | 82054.06360709928 | 252495.83086266712 | 0.9256017216931834 | 0.5081102995332547 |\n",
      "| most_frequent | 81306.28574689281 | 247890.21389577806 | 0.9269515606383576 | 0.5258911410683891 |\n",
      "|    constant   | 80686.89580240553 | 249579.45388315487 | 0.9280602849828363 | 0.5194075253716007 |\n",
      "+---------------+-------------------+--------------------+--------------------+--------------------+\n"
     ]
    }
   ],
   "source": [
    "tabla = PrettyTable()\n",
    "tabla.field_name = [\"Estrategia\", \"RMSE_train\", \"RMSE_test\", \"R2_train\", \"R2_test\"]\n",
    "strategies= [\"mean\", \"median\", \"most_frequent\", \"constant\"]\n",
    "for s in strategies:\n",
    "    imputer=SimpleImputer(strategy=s)\n",
    "    imputer.fit(X)\n",
    "    X_t=imputer.transform(X)\n",
    "    X_train,X_test,y_train,y_test=train_test_split(X_t,y,test_size=0.3,random_state=42)\n",
    "    \n",
    "    tree= DecisionTreeRegressor(max_depth=16,random_state=42)\n",
    "    tree.fit(X_train,y_train)\n",
    "    \n",
    "    y_pred_test = tree.predict(X_test)\n",
    "    y_pred_train= tree.predict(X_train)\n",
    "    \n",
    "    r2_train = r2_score(y_train, y_pred_train)\n",
    "    RMSE_train= np.sqrt(mean_squared_error(y_train, y_pred_train))\n",
    "    \n",
    "    r2_test=r2_score(y_test, y_pred_test)\n",
    "    RMSE_test=np.sqrt(mean_squared_error(y_test,y_pred_test))\n",
    "    \n",
    "    tabla.add_row([s,RMSE_train,RMSE_test,r2_train,r2_test])\n",
    "print(tabla)"
   ]
  },
  {
   "cell_type": "markdown",
   "id": "c75520a7",
   "metadata": {},
   "source": [
    "Mediante esta estrategia se determina que most_frecuent o moda es la mejor forma de imputar los valores faltantes "
   ]
  },
  {
   "cell_type": "markdown",
   "id": "8f01d4dd",
   "metadata": {},
   "source": [
    "### Imputacion KNN"
   ]
  },
  {
   "cell_type": "code",
   "execution_count": 27,
   "id": "423311b0",
   "metadata": {
    "scrolled": true
   },
   "outputs": [
    {
     "name": "stdout",
     "output_type": "stream",
     "text": [
      "+---------+-------------------+--------------------+--------------------+--------------------+\n",
      "| Vecinos |     RMSE_train    |     RMSE_test      |      R2_train      |      R2_test       |\n",
      "+---------+-------------------+--------------------+--------------------+--------------------+\n",
      "|    5    | 82529.21761136969 | 250722.86664914983 | 0.9247375842811643 | 0.5149939061744115 |\n",
      "|    6    | 81058.12818245593 | 253998.59713370862 | 0.9273967871993813 | 0.5022377671962475 |\n",
      "|    7    |  81034.1715803408 | 251363.6826309014  | 0.9274396963879543 | 0.5125115092342079 |\n",
      "|    8    | 82626.57260737292 | 255159.44536038095 | 0.9245599140180359 | 0.4976775308010575 |\n",
      "|    9    | 80474.93367880234 | 253989.05518266658 | 0.9284377555978437 | 0.5022751653054904 |\n",
      "|    10   | 83652.69686629537 | 253367.31656356048 | 0.9226745259215388 | 0.5047089394283703 |\n",
      "+---------+-------------------+--------------------+--------------------+--------------------+\n"
     ]
    }
   ],
   "source": [
    "vecinos= [5,6,7,8,9,10]\n",
    "tabla2=PrettyTable()\n",
    "tabla2.field_names=[\"Vecinos\", \"RMSE_train\", \"RMSE_test\", \"R2_train\", \"R2_test\"]\n",
    "for v in vecinos:\n",
    "    KNN_imputer= KNNImputer(n_neighbors=v)\n",
    "    KNN_imputer.fit(X)\n",
    "    X_knn= KNN_imputer.transform(X)\n",
    "    X_train,X_test,y_train,y_test=train_test_split(X_knn,y,test_size=0.3,random_state=42)\n",
    "    \n",
    "    tree= DecisionTreeRegressor(max_depth=16,random_state=42)\n",
    "    tree.fit(X_train,y_train)\n",
    "    \n",
    "    y_pred_test = tree.predict(X_test)\n",
    "    y_pred_train= tree.predict(X_train)\n",
    "    \n",
    "    r2_train = r2_score(y_train, y_pred_train)\n",
    "    RMSE_train= np.sqrt(mean_squared_error(y_train, y_pred_train))\n",
    "    \n",
    "    r2_test=r2_score(y_test, y_pred_test)\n",
    "    RMSE_test=np.sqrt(mean_squared_error(y_test,y_pred_test))\n",
    "    \n",
    "    tabla2.add_row([v,RMSE_train,RMSE_test,r2_train,r2_test])\n",
    "print(tabla2)\n",
    "    "
   ]
  },
  {
   "cell_type": "markdown",
   "id": "7631dfa5",
   "metadata": {},
   "source": [
    "Para este caso la imputacion de valore faltantes da como resultado 5 vecinos "
   ]
  },
  {
   "cell_type": "markdown",
   "id": "97be92c6",
   "metadata": {},
   "source": [
    "## Imputacion iteractiva "
   ]
  },
  {
   "cell_type": "code",
   "execution_count": 28,
   "id": "1e77cd57",
   "metadata": {},
   "outputs": [
    {
     "name": "stdout",
     "output_type": "stream",
     "text": [
      "+------------------+-------------------+--------------------+--------------------+--------------------+\n",
      "| Imputation order |     RMSE_train    |     RMSE_test      |      R2_train      |      R2_test       |\n",
      "+------------------+-------------------+--------------------+--------------------+--------------------+\n",
      "|    ascending     | 81179.84916608916 | 248018.69874592984 | 0.9271785741720276 | 0.5253995396333763 |\n",
      "|    descending    | 80971.48402912034 | 250710.7682396241  | 0.9275519173995336 | 0.5150407121227575 |\n",
      "|      roman       | 81179.84916608916 | 248018.69874592984 | 0.9271785741720276 | 0.5253995396333763 |\n",
      "|      arabic      | 80971.48402912034 | 250710.7682396241  | 0.9275519173995336 | 0.5150407121227575 |\n",
      "|      random      |  80796.036541331  | 251606.6001556006  | 0.9278655355440347 | 0.5115688375126792 |\n",
      "+------------------+-------------------+--------------------+--------------------+--------------------+\n"
     ]
    }
   ],
   "source": [
    "imp_order = ['ascending', 'descending', 'roman', 'arabic','random']\n",
    "tabla3 = PrettyTable()\n",
    "tabla3.field_names = [\"Imputation order\", \"RMSE_train\", \"RMSE_test\", \"R2_train\", \"R2_test\"]\n",
    "for io in imp_order:\n",
    "    iter_imputer=IterativeImputer(imputation_order=io, max_iter=20)\n",
    "    iter_imputer.fit(X)\n",
    "    X_iter= iter_imputer.transform(X)\n",
    "    X_train,X_test,y_train,y_test=train_test_split(X_iter,y,test_size=0.3,random_state=42)\n",
    "    \n",
    "    tree= DecisionTreeRegressor(max_depth=16,random_state=42)\n",
    "    tree.fit(X_train,y_train)\n",
    "    \n",
    "    y_pred_test = tree.predict(X_test)\n",
    "    y_pred_train= tree.predict(X_train)\n",
    "    \n",
    "    r2_train = r2_score(y_train, y_pred_train)\n",
    "    RMSE_train= np.sqrt(mean_squared_error(y_train, y_pred_train))\n",
    "    \n",
    "    r2_test=r2_score(y_test, y_pred_test)\n",
    "    RMSE_test=np.sqrt(mean_squared_error(y_test,y_pred_test))\n",
    "    \n",
    "    tabla3.add_row([io,RMSE_train,RMSE_test,r2_train,r2_test])\n",
    "print(tabla3)"
   ]
  },
  {
   "cell_type": "markdown",
   "id": "eff7f44f",
   "metadata": {},
   "source": [
    "Se decide a utilizar el metodo del KNN por su facilidad de uso y sus buenos resultados en tanto el training y testing con KNN=5"
   ]
  },
  {
   "cell_type": "markdown",
   "id": "94adb1ff",
   "metadata": {},
   "source": [
    "### Aplicacion del KNNimputer en el dataset "
   ]
  },
  {
   "cell_type": "code",
   "execution_count": 29,
   "id": "3fce71d9",
   "metadata": {},
   "outputs": [
    {
     "data": {
      "text/plain": [
       "created_on            0\n",
       "lat                4376\n",
       "lon                4390\n",
       "l3                    0\n",
       "rooms                 0\n",
       "bedrooms              0\n",
       "bathrooms          2139\n",
       "surface_total      8717\n",
       "surface_covered    9024\n",
       "price                 0\n",
       "property_type         0\n",
       "dtype: int64"
      ]
     },
     "execution_count": 29,
     "metadata": {},
     "output_type": "execute_result"
    }
   ],
   "source": [
    "dp.isnull().sum()"
   ]
  },
  {
   "cell_type": "code",
   "execution_count": 30,
   "id": "20b08aad",
   "metadata": {},
   "outputs": [],
   "source": [
    "KNN_imputer=KNNImputer(n_neighbors=5)\n",
    "KNN_imputer=KNN_imputer.fit(dp.iloc[:,5:9])\n",
    "dp.iloc[:,5:9]=KNN_imputer.transform(dp.iloc[:,5:9])"
   ]
  },
  {
   "cell_type": "code",
   "execution_count": 31,
   "id": "2ef5a9b6",
   "metadata": {},
   "outputs": [],
   "source": [
    "KNN_imputer=KNNImputer(n_neighbors=5)\n",
    "KNN_imputer=KNN_imputer.fit(dp.iloc[:,1:3])\n",
    "dp.iloc[:,1:3]=KNN_imputer.transform(dp.iloc[:,1:3])"
   ]
  },
  {
   "cell_type": "code",
   "execution_count": 32,
   "id": "5fdb6b3e",
   "metadata": {},
   "outputs": [
    {
     "data": {
      "text/plain": [
       "created_on         0\n",
       "lat                0\n",
       "lon                0\n",
       "l3                 0\n",
       "rooms              0\n",
       "bedrooms           0\n",
       "bathrooms          0\n",
       "surface_total      0\n",
       "surface_covered    0\n",
       "price              0\n",
       "property_type      0\n",
       "dtype: int64"
      ]
     },
     "execution_count": 32,
     "metadata": {},
     "output_type": "execute_result"
    }
   ],
   "source": [
    "dp.isnull().sum()"
   ]
  },
  {
   "cell_type": "code",
   "execution_count": 33,
   "id": "7e7d0e84",
   "metadata": {},
   "outputs": [
    {
     "data": {
      "text/plain": [
       "<AxesSubplot:>"
      ]
     },
     "execution_count": 33,
     "metadata": {},
     "output_type": "execute_result"
    }
   ],
   "source": [
    "fig =plt.subplots(figsize=(8,8))\n",
    "sns.heatmap(dp.corr(), annot=True)"
   ]
  },
  {
   "cell_type": "markdown",
   "id": "d3069081",
   "metadata": {},
   "source": [
    "## Eliminacion y detencion de outliers "
   ]
  },
  {
   "cell_type": "code",
   "execution_count": 34,
   "id": "b47f7ce1",
   "metadata": {},
   "outputs": [
    {
     "data": {
      "text/plain": [
       "(89114, 11)"
      ]
     },
     "execution_count": 34,
     "metadata": {},
     "output_type": "execute_result"
    }
   ],
   "source": [
    "dp.shape"
   ]
  },
  {
   "cell_type": "markdown",
   "id": "105707a3",
   "metadata": {},
   "source": [
    "### Metodo IQR "
   ]
  },
  {
   "cell_type": "code",
   "execution_count": 35,
   "id": "35afd6f5",
   "metadata": {},
   "outputs": [
    {
     "name": "stdout",
     "output_type": "stream",
     "text": [
      "Casa\n",
      "el precio maximo es 826875.0, el precio minimo es 84810.0 y el IQR 234750.0\n",
      "-------------------------------------------------------------------\n",
      "PH\n",
      "el precio maximo es 471112.5, el precio minimo es 65000.0 y el IQR 134075.0\n",
      "-------------------------------------------------------------------\n",
      "Departamento\n",
      "el precio maximo es 495750.0, el precio minimo es 57000.0 y el IQR 150500.0\n",
      "-------------------------------------------------------------------\n"
     ]
    }
   ],
   "source": [
    "for x in [\"Casa\",\"PH\", \"Departamento\"]:\n",
    "    Q1 = dp[dp[\"property_type\"]==x][\"price\"].quantile(0.25)\n",
    "    Q3 = dp[dp[\"property_type\"]==x][\"price\"].quantile(0.75)\n",
    "    IQR = Q3 - Q1\n",
    "    lim_min = dp[dp[\"property_type\"]==x][\"price\"].quantile(0.01)\n",
    "    lim_max = Q3 + (IQR*1.5)\n",
    "    print(x)\n",
    "    print(\"el precio maximo es {}, el precio minimo es {} y el IQR {}\" .format(lim_max,lim_min,IQR))\n",
    "    print(\"-------------------------------------------------------------------\")"
   ]
  },
  {
   "cell_type": "code",
   "execution_count": 36,
   "id": "166677fe",
   "metadata": {},
   "outputs": [],
   "source": [
    "dptos=dp[dp[\"property_type\"]==\"Departamento\"]\n",
    "phs=dp[dp[\"property_type\"]==\"PH\"]\n",
    "casas=dp[dp[\"property_type\"]==\"Casa\"]"
   ]
  },
  {
   "cell_type": "code",
   "execution_count": 37,
   "id": "3fa69cbe",
   "metadata": {},
   "outputs": [],
   "source": [
    "dptos= dptos[(dptos.price <= 495750.0) & (dptos.price >=150500.0) ]\n",
    "phs=phs[(phs.price <= 471112.5) & (phs.price >=65000.0) ]\n",
    "casas=casas[(casas.price <= 826875.0) & (casas.price >=84810.0) ]"
   ]
  },
  {
   "cell_type": "code",
   "execution_count": 38,
   "id": "976a24f9",
   "metadata": {},
   "outputs": [
    {
     "name": "stderr",
     "output_type": "stream",
     "text": [
      "<ipython-input-38-bd61ce390c15>:11: UserWarning: Matplotlib is currently using agg, which is a non-GUI backend, so cannot show the figure.\n",
      "  plt.show()\n"
     ]
    }
   ],
   "source": [
    "figure,(ax1,ax2,ax3) = plt.subplots(3,constrained_layout=True,figsize=(10,10))\n",
    "ax1.set_title(\"Relacion tipo de propiedad y precio(En miles de Dolares)\")\n",
    "ax2.set_title(\"Relacion tipo de propiedad y precio(En miles de Dolares)\")\n",
    "ax3.set_title(\"Relacion tipo de propiedad y precio(En miles Dolares)\")\n",
    "sns.boxplot(data=dptos,x=\"price\",y=\"property_type\",ax=ax1)\n",
    "sns.boxplot(data=phs,x=\"price\",y=\"property_type\",ax=ax2)\n",
    "sns.boxplot(data=casas,x=\"price\",y=\"property_type\",ax=ax3)\n",
    "ax1.grid()\n",
    "ax2.grid()\n",
    "ax3.grid()\n",
    "plt.show()"
   ]
  },
  {
   "cell_type": "markdown",
   "id": "5420c601",
   "metadata": {},
   "source": [
    "#### Rooms"
   ]
  },
  {
   "cell_type": "code",
   "execution_count": 39,
   "id": "b1493988",
   "metadata": {},
   "outputs": [
    {
     "data": {
      "text/plain": [
       "1.0      8630\n",
       "2.0     26511\n",
       "3.0     27696\n",
       "4.0     17865\n",
       "5.0      5330\n",
       "6.0      1770\n",
       "7.0       684\n",
       "8.0       392\n",
       "9.0        73\n",
       "10.0       77\n",
       "11.0       28\n",
       "12.0       35\n",
       "13.0        2\n",
       "14.0        4\n",
       "15.0        7\n",
       "16.0        3\n",
       "18.0        4\n",
       "21.0        1\n",
       "26.0        2\n",
       "Name: rooms, dtype: int64"
      ]
     },
     "execution_count": 39,
     "metadata": {},
     "output_type": "execute_result"
    }
   ],
   "source": [
    "dp[\"rooms\"].value_counts().sort_index()"
   ]
  },
  {
   "cell_type": "code",
   "execution_count": 40,
   "id": "e6fecb96",
   "metadata": {},
   "outputs": [
    {
     "name": "stdout",
     "output_type": "stream",
     "text": [
      "Casa\n",
      "el N maximo de habitaciones es 9.0, el N minimo de habitaciones es 2.0 y el IQR 2.0\n",
      "-------------------------------------------------------------------\n",
      "PH\n",
      "el N maximo de habitaciones es 5.5, el N minimo de habitaciones es 1.3299999999999983 y el IQR 1.0\n",
      "-------------------------------------------------------------------\n",
      "Departamento\n",
      "el N maximo de habitaciones es 7.0, el N minimo de habitaciones es 1.0 y el IQR 2.0\n",
      "-------------------------------------------------------------------\n"
     ]
    }
   ],
   "source": [
    "rooms_min_list=[]\n",
    "rooms_max_list=[]\n",
    "\n",
    "for x in [\"Casa\",\"PH\", \"Departamento\"]:\n",
    "    Q1 = dp[dp[\"property_type\"]==x][\"rooms\"].quantile(0.25)\n",
    "    Q3 = dp[dp[\"property_type\"]==x][\"rooms\"].quantile(0.75)\n",
    "    IQR = Q3 - Q1\n",
    "    lim_min = dp[dp[\"property_type\"]==x][\"rooms\"].quantile(0.01)\n",
    "    lim_max = Q3 + (IQR*1.5)\n",
    "    \n",
    "    rooms_min_list.append(lim_min)\n",
    "    rooms_max_list.append(lim_max)\n",
    "    \n",
    "    print(x)\n",
    "    print(\"el N maximo de habitaciones es {}, el N minimo de habitaciones es {} y el IQR {}\" .format(lim_max,lim_min,IQR))\n",
    "    print(\"-------------------------------------------------------------------\")"
   ]
  },
  {
   "cell_type": "markdown",
   "id": "4a634541",
   "metadata": {},
   "source": [
    "Se observa que los valores entregados no son enteros entonces se procede a elevarlos al entero mas cercano "
   ]
  },
  {
   "cell_type": "code",
   "execution_count": 41,
   "id": "8bb49eb5",
   "metadata": {},
   "outputs": [
    {
     "name": "stdout",
     "output_type": "stream",
     "text": [
      "9\n",
      "5\n",
      "7\n"
     ]
    }
   ],
   "source": [
    "for i in rooms_max_list:\n",
    "    floor_max=math.floor(i)\n",
    "    print(floor_max)"
   ]
  },
  {
   "cell_type": "code",
   "execution_count": 42,
   "id": "668b6fe0",
   "metadata": {},
   "outputs": [],
   "source": [
    "dptos= dptos[(dptos.rooms <= 7.0) & (dptos.rooms >=1.0) ]\n",
    "phs=phs[(phs.rooms <= 5.0) & (phs.rooms >=2.0) ]\n",
    "casas=casas[(casas.rooms <= 9.0) & (casas.rooms >=2.0) ]"
   ]
  },
  {
   "cell_type": "code",
   "execution_count": 43,
   "id": "72941744",
   "metadata": {},
   "outputs": [
    {
     "name": "stderr",
     "output_type": "stream",
     "text": [
      "<ipython-input-43-ac006cc3aac8>:11: UserWarning: Matplotlib is currently using agg, which is a non-GUI backend, so cannot show the figure.\n",
      "  plt.show()\n"
     ]
    }
   ],
   "source": [
    "figure,(ax1,ax2,ax3) = plt.subplots(3,constrained_layout=True,figsize=(10,10))\n",
    "ax1.set_title(\"Relacion tipo de propiedad y cantidad de habitaciones\")\n",
    "ax2.set_title(\"Relacion tipo de propiedad y cantidad de habitaciones\")\n",
    "ax3.set_title(\"Relacion tipo de propiedad y cantidad de habitaciones\")\n",
    "sns.boxplot(data=dptos,x=\"rooms\",y=\"property_type\",ax=ax1)\n",
    "sns.boxplot(data=phs,x=\"rooms\",y=\"property_type\",ax=ax2)\n",
    "sns.boxplot(data=casas,x=\"rooms\",y=\"property_type\",ax=ax3)\n",
    "ax1.grid()\n",
    "ax2.grid()\n",
    "ax3.grid()\n",
    "plt.show()"
   ]
  },
  {
   "cell_type": "markdown",
   "id": "9be76b93",
   "metadata": {},
   "source": [
    "#### Baños"
   ]
  },
  {
   "cell_type": "code",
   "execution_count": 44,
   "id": "d182570f",
   "metadata": {},
   "outputs": [
    {
     "data": {
      "text/plain": [
       "1     55038\n",
       "2     23375\n",
       "3      7529\n",
       "4      2308\n",
       "5       664\n",
       "6       140\n",
       "7        38\n",
       "8         4\n",
       "9         4\n",
       "10        7\n",
       "11        3\n",
       "12        1\n",
       "14        3\n",
       "Name: bathrooms, dtype: int64"
      ]
     },
     "execution_count": 44,
     "metadata": {},
     "output_type": "execute_result"
    }
   ],
   "source": [
    "dp[\"bathrooms\"] = dp[\"bathrooms\"].astype(\"int32\")\n",
    "dp[\"bathrooms\"].value_counts().sort_index()"
   ]
  },
  {
   "cell_type": "code",
   "execution_count": 45,
   "id": "a170258e",
   "metadata": {},
   "outputs": [
    {
     "name": "stdout",
     "output_type": "stream",
     "text": [
      "Casa\n",
      "el N maximo de baños es 4.5, el N minimo de baños es 1.0 y el IQR 1.0\n",
      "-------------------------------------------------------------------\n",
      "PH\n",
      "el N maximo de baños es 3.5, el N minimo de baños es 1.0 y el IQR 1.0\n",
      "-------------------------------------------------------------------\n",
      "Departamento\n",
      "el N maximo de baños es 3.5, el N minimo de baños es 1.0 y el IQR 1.0\n",
      "-------------------------------------------------------------------\n"
     ]
    }
   ],
   "source": [
    "bath_min_list=[]\n",
    "bath_max_list=[]\n",
    "\n",
    "for x in [\"Casa\",\"PH\", \"Departamento\"]:\n",
    "    Q1 = dp[dp[\"property_type\"]==x][\"bathrooms\"].quantile(0.25)\n",
    "    Q3 = dp[dp[\"property_type\"]==x][\"bathrooms\"].quantile(0.75)\n",
    "    IQR = Q3 - Q1\n",
    "    lim_min = dp[dp[\"property_type\"]==x][\"bathrooms\"].quantile(0.01)\n",
    "    lim_max = Q3 + (IQR*1.5)\n",
    "    \n",
    "    bath_min_list.append(lim_min)\n",
    "    bath_max_list.append(lim_max)\n",
    "    \n",
    "    print(x)\n",
    "    print(\"el N maximo de baños es {}, el N minimo de baños es {} y el IQR {}\" .format(lim_max,lim_min,IQR))\n",
    "    print(\"-------------------------------------------------------------------\")"
   ]
  },
  {
   "cell_type": "code",
   "execution_count": 46,
   "id": "e5e1c84b",
   "metadata": {},
   "outputs": [
    {
     "name": "stdout",
     "output_type": "stream",
     "text": [
      "4\n",
      "3\n",
      "3\n"
     ]
    }
   ],
   "source": [
    "for i in bath_max_list:\n",
    "    b_floor_max=math.floor(i)\n",
    "    print(b_floor_max)"
   ]
  },
  {
   "cell_type": "code",
   "execution_count": 47,
   "id": "f6a2dbac",
   "metadata": {},
   "outputs": [],
   "source": [
    "dptos= dptos[(dptos.bathrooms <= 3.0) & (dptos.bathrooms >=1.0) ]\n",
    "phs=phs[(phs.bathrooms <= 3.0) & (phs.bathrooms >=1.0) ]\n",
    "casas=casas[(casas.bathrooms <= 4.0) & (casas.bathrooms >=1.0) ]"
   ]
  },
  {
   "cell_type": "code",
   "execution_count": 48,
   "id": "a8e57a31",
   "metadata": {},
   "outputs": [
    {
     "name": "stderr",
     "output_type": "stream",
     "text": [
      "<ipython-input-48-7e517859cb12>:11: UserWarning: Matplotlib is currently using agg, which is a non-GUI backend, so cannot show the figure.\n",
      "  plt.show()\n"
     ]
    }
   ],
   "source": [
    "figure,(ax1,ax2,ax3) = plt.subplots(3,constrained_layout=True,figsize=(10,10))\n",
    "ax1.set_title(\"Relacion tipo de propiedad y cantidad de baños\")\n",
    "ax2.set_title(\"Relacion tipo de propiedad y cantidad de baños\")\n",
    "ax3.set_title(\"Relacion tipo de propiedad y cantidad de baños\")\n",
    "sns.boxplot(data=dptos,x=\"bathrooms\",y=\"property_type\",ax=ax1)\n",
    "sns.boxplot(data=phs,x=\"bathrooms\",y=\"property_type\",ax=ax2)\n",
    "sns.boxplot(data=casas,x=\"bathrooms\",y=\"property_type\",ax=ax3)\n",
    "ax1.grid()\n",
    "ax2.grid()\n",
    "ax3.grid()\n",
    "plt.show()"
   ]
  },
  {
   "cell_type": "markdown",
   "id": "006bafdd",
   "metadata": {},
   "source": [
    "#### Bedrooms"
   ]
  },
  {
   "cell_type": "code",
   "execution_count": 49,
   "id": "6ce84d7d",
   "metadata": {},
   "outputs": [
    {
     "data": {
      "text/plain": [
       "0.0      2189\n",
       "1.0     33166\n",
       "2.0     28464\n",
       "3.0     19224\n",
       "4.0      4711\n",
       "5.0       796\n",
       "6.0       305\n",
       "7.0       174\n",
       "8.0        33\n",
       "9.0        16\n",
       "10.0       13\n",
       "11.0        4\n",
       "12.0        9\n",
       "13.0        2\n",
       "14.0        2\n",
       "15.0        6\n",
       "Name: bedrooms, dtype: int64"
      ]
     },
     "execution_count": 49,
     "metadata": {},
     "output_type": "execute_result"
    }
   ],
   "source": [
    "dp[\"bedrooms\"].value_counts().sort_index()"
   ]
  },
  {
   "cell_type": "code",
   "execution_count": 50,
   "id": "25ede695",
   "metadata": {},
   "outputs": [
    {
     "name": "stdout",
     "output_type": "stream",
     "text": [
      "Casa\n",
      "el N maximo de dormitorios es 5.5, el N minimo de dormitorios es 1.0 y el IQR 1.0\n",
      "-------------------------------------------------------------------\n",
      "PH\n",
      "el N maximo de dormitorios es 4.5, el N minimo de dormitorios es 1.0 y el IQR 1.0\n",
      "-------------------------------------------------------------------\n",
      "Departamento\n",
      "el N maximo de dormitorios es 3.5, el N minimo de dormitorios es 0.0 y el IQR 1.0\n",
      "-------------------------------------------------------------------\n"
     ]
    }
   ],
   "source": [
    "bedr_min_list=[]\n",
    "bedr_max_list=[]\n",
    "\n",
    "for x in [\"Casa\",\"PH\", \"Departamento\"]:\n",
    "    Q1 = dp[dp[\"property_type\"]==x][\"bedrooms\"].quantile(0.25)\n",
    "    Q3 = dp[dp[\"property_type\"]==x][\"bedrooms\"].quantile(0.75)\n",
    "    IQR = Q3 - Q1\n",
    "    lim_min = dp[dp[\"property_type\"]==x][\"bedrooms\"].quantile(0.01)\n",
    "    lim_max = Q3 + (IQR*1.5)\n",
    "    \n",
    "    bedr_min_list.append(lim_min)\n",
    "    bedr_max_list.append(lim_max)\n",
    "    \n",
    "    print(x)\n",
    "    print(\"el N maximo de dormitorios es {}, el N minimo de dormitorios es {} y el IQR {}\" .format(lim_max,lim_min,IQR))\n",
    "    print(\"-------------------------------------------------------------------\")"
   ]
  },
  {
   "cell_type": "code",
   "execution_count": 51,
   "id": "811dfa53",
   "metadata": {},
   "outputs": [
    {
     "name": "stdout",
     "output_type": "stream",
     "text": [
      "5\n",
      "4\n",
      "3\n"
     ]
    }
   ],
   "source": [
    "for i in bedr_max_list:\n",
    "    br_floor_max=math.floor(i)\n",
    "    print(br_floor_max)"
   ]
  },
  {
   "cell_type": "code",
   "execution_count": 52,
   "id": "2c285b92",
   "metadata": {},
   "outputs": [],
   "source": [
    "dptos= dptos[(dptos.bedrooms <= 3.0) & (dptos.bedrooms >=0.0) ]\n",
    "phs=phs[(phs.bedrooms <= 4.0) & (phs.bedrooms >=1.0) ]\n",
    "casas=casas[(casas.bedrooms <= 5.0) & (casas.bedrooms >=1.0) ]"
   ]
  },
  {
   "cell_type": "code",
   "execution_count": 53,
   "id": "93782e9f",
   "metadata": {},
   "outputs": [
    {
     "name": "stderr",
     "output_type": "stream",
     "text": [
      "<ipython-input-53-8cbfea63a111>:11: UserWarning: Matplotlib is currently using agg, which is a non-GUI backend, so cannot show the figure.\n",
      "  plt.show()\n"
     ]
    }
   ],
   "source": [
    "figure,(ax1,ax2,ax3) = plt.subplots(3,constrained_layout=True,figsize=(10,10))\n",
    "ax1.set_title(\"Relacion tipo de propiedad y cantidad de dormitorios\")\n",
    "ax2.set_title(\"Relacion tipo de propiedad y cantidad de dormitorios\")\n",
    "ax3.set_title(\"Relacion tipo de propiedad y cantidad de dormitorios\")\n",
    "sns.boxplot(data=dptos,x=\"bedrooms\",y=\"property_type\",ax=ax1)\n",
    "sns.boxplot(data=phs,x=\"bedrooms\",y=\"property_type\",ax=ax2)\n",
    "sns.boxplot(data=casas,x=\"bedrooms\",y=\"property_type\",ax=ax3)\n",
    "ax1.grid()\n",
    "ax2.grid()\n",
    "ax3.grid()\n",
    "plt.show()"
   ]
  },
  {
   "cell_type": "markdown",
   "id": "555b6de6",
   "metadata": {},
   "source": [
    "#### surface_total"
   ]
  },
  {
   "cell_type": "code",
   "execution_count": 54,
   "id": "0cfcd010",
   "metadata": {},
   "outputs": [
    {
     "name": "stdout",
     "output_type": "stream",
     "text": [
      "Casa\n",
      "el maximo de surface total es 571.875, el minimo de surface total es 41.6 y el IQR 166.75\n",
      "-------------------------------------------------------------------\n",
      "PH\n",
      "el maximo de surface total es 275.0, el minimo de surface total es 35.0 y el IQR 82.0\n",
      "-------------------------------------------------------------------\n",
      "Departamento\n",
      "el maximo de surface total es 177.5, el minimo de surface total es 26.0 y el IQR 53.0\n",
      "-------------------------------------------------------------------\n"
     ]
    }
   ],
   "source": [
    "surfT_min_list=[]\n",
    "surfT_max_list=[]\n",
    "\n",
    "for x in [\"Casa\",\"PH\", \"Departamento\"]:\n",
    "    Q1 = dp[dp[\"property_type\"]==x][\"surface_total\"].quantile(0.25)\n",
    "    Q3 = dp[dp[\"property_type\"]==x][\"surface_total\"].quantile(0.75)\n",
    "    IQR = Q3 - Q1\n",
    "    lim_min = dp[dp[\"property_type\"]==x][\"surface_total\"].quantile(0.01)\n",
    "    lim_max = Q3 + (IQR*1.5)\n",
    "    \n",
    "    surfT_min_list.append(lim_min)\n",
    "    surfT_max_list.append(lim_max)\n",
    "    \n",
    "    print(x)\n",
    "    print(\"el maximo de surface total es {}, el minimo de surface total es {} y el IQR {}\" .format(lim_max,lim_min,IQR))\n",
    "    print(\"-------------------------------------------------------------------\")"
   ]
  },
  {
   "cell_type": "code",
   "execution_count": 55,
   "id": "d4a4a249",
   "metadata": {},
   "outputs": [],
   "source": [
    "dptos= dptos[(dptos.surface_total <= 182.91) & (dptos.surface_total >=26.0) ]\n",
    "phs=phs[(phs.surface_total <= 275.0) & (phs.surface_total >=35.0) ]\n",
    "casas=casas[(casas.surface_total <= 583.12) & (casas.surface_total >=56.81) ]"
   ]
  },
  {
   "cell_type": "code",
   "execution_count": 56,
   "id": "a177b782",
   "metadata": {},
   "outputs": [
    {
     "name": "stderr",
     "output_type": "stream",
     "text": [
      "<ipython-input-56-1887492bbe6f>:11: UserWarning: Matplotlib is currently using agg, which is a non-GUI backend, so cannot show the figure.\n",
      "  plt.show()\n"
     ]
    }
   ],
   "source": [
    "figure,(ax1,ax2,ax3) = plt.subplots(3,constrained_layout=True,figsize=(10,10))\n",
    "ax1.set_title(\"Relacion tipo de propiedad y superficie total\")\n",
    "ax2.set_title(\"Relacion tipo de propiedad y superficie total\")\n",
    "ax3.set_title(\"Relacion tipo de propiedad y superficie total\")\n",
    "sns.boxplot(data=dptos,x=\"surface_total\",y=\"property_type\",ax=ax1)\n",
    "sns.boxplot(data=phs,x=\"surface_total\",y=\"property_type\",ax=ax2)\n",
    "sns.boxplot(data=casas,x=\"surface_total\",y=\"property_type\",ax=ax3)\n",
    "ax1.grid()\n",
    "ax2.grid()\n",
    "ax3.grid()\n",
    "plt.show()"
   ]
  },
  {
   "cell_type": "code",
   "execution_count": 57,
   "id": "bd9682a9",
   "metadata": {},
   "outputs": [],
   "source": [
    "conc_1=[dptos,phs,casas]\n",
    "dp= pd.concat(conc_1)"
   ]
  },
  {
   "cell_type": "code",
   "execution_count": 58,
   "id": "cc3a56ac",
   "metadata": {},
   "outputs": [
    {
     "data": {
      "text/html": [
       "<div>\n",
       "<style scoped>\n",
       "    .dataframe tbody tr th:only-of-type {\n",
       "        vertical-align: middle;\n",
       "    }\n",
       "\n",
       "    .dataframe tbody tr th {\n",
       "        vertical-align: top;\n",
       "    }\n",
       "\n",
       "    .dataframe thead th {\n",
       "        text-align: right;\n",
       "    }\n",
       "</style>\n",
       "<table border=\"1\" class=\"dataframe\">\n",
       "  <thead>\n",
       "    <tr style=\"text-align: right;\">\n",
       "      <th></th>\n",
       "      <th>created_on</th>\n",
       "      <th>lat</th>\n",
       "      <th>lon</th>\n",
       "      <th>l3</th>\n",
       "      <th>rooms</th>\n",
       "      <th>bedrooms</th>\n",
       "      <th>bathrooms</th>\n",
       "      <th>surface_total</th>\n",
       "      <th>surface_covered</th>\n",
       "      <th>price</th>\n",
       "      <th>property_type</th>\n",
       "    </tr>\n",
       "  </thead>\n",
       "  <tbody>\n",
       "    <tr>\n",
       "      <th>24</th>\n",
       "      <td>2019-10-17</td>\n",
       "      <td>-34.636661</td>\n",
       "      <td>-58.471170</td>\n",
       "      <td>Flores</td>\n",
       "      <td>2.0</td>\n",
       "      <td>1.0</td>\n",
       "      <td>1.0</td>\n",
       "      <td>58.0</td>\n",
       "      <td>48.0</td>\n",
       "      <td>154000.0</td>\n",
       "      <td>Departamento</td>\n",
       "    </tr>\n",
       "    <tr>\n",
       "      <th>34</th>\n",
       "      <td>2019-10-17</td>\n",
       "      <td>-34.590031</td>\n",
       "      <td>-58.423771</td>\n",
       "      <td>Palermo</td>\n",
       "      <td>2.0</td>\n",
       "      <td>1.0</td>\n",
       "      <td>1.0</td>\n",
       "      <td>52.0</td>\n",
       "      <td>48.0</td>\n",
       "      <td>188000.0</td>\n",
       "      <td>Departamento</td>\n",
       "    </tr>\n",
       "    <tr>\n",
       "      <th>35</th>\n",
       "      <td>2019-10-17</td>\n",
       "      <td>-34.599037</td>\n",
       "      <td>-58.435970</td>\n",
       "      <td>Palermo</td>\n",
       "      <td>2.0</td>\n",
       "      <td>1.0</td>\n",
       "      <td>2.0</td>\n",
       "      <td>81.0</td>\n",
       "      <td>76.0</td>\n",
       "      <td>410000.0</td>\n",
       "      <td>Departamento</td>\n",
       "    </tr>\n",
       "    <tr>\n",
       "      <th>36</th>\n",
       "      <td>2019-10-17</td>\n",
       "      <td>-34.599037</td>\n",
       "      <td>-58.435970</td>\n",
       "      <td>Palermo</td>\n",
       "      <td>2.0</td>\n",
       "      <td>1.0</td>\n",
       "      <td>1.0</td>\n",
       "      <td>42.0</td>\n",
       "      <td>38.0</td>\n",
       "      <td>169000.0</td>\n",
       "      <td>Departamento</td>\n",
       "    </tr>\n",
       "    <tr>\n",
       "      <th>38</th>\n",
       "      <td>2019-10-17</td>\n",
       "      <td>-34.597613</td>\n",
       "      <td>-58.416688</td>\n",
       "      <td>Palermo</td>\n",
       "      <td>2.0</td>\n",
       "      <td>1.0</td>\n",
       "      <td>1.0</td>\n",
       "      <td>49.0</td>\n",
       "      <td>41.0</td>\n",
       "      <td>169000.0</td>\n",
       "      <td>Departamento</td>\n",
       "    </tr>\n",
       "  </tbody>\n",
       "</table>\n",
       "</div>"
      ],
      "text/plain": [
       "    created_on        lat        lon       l3  rooms  bedrooms  bathrooms  \\\n",
       "24  2019-10-17 -34.636661 -58.471170   Flores    2.0       1.0        1.0   \n",
       "34  2019-10-17 -34.590031 -58.423771  Palermo    2.0       1.0        1.0   \n",
       "35  2019-10-17 -34.599037 -58.435970  Palermo    2.0       1.0        2.0   \n",
       "36  2019-10-17 -34.599037 -58.435970  Palermo    2.0       1.0        1.0   \n",
       "38  2019-10-17 -34.597613 -58.416688  Palermo    2.0       1.0        1.0   \n",
       "\n",
       "    surface_total  surface_covered     price property_type  \n",
       "24           58.0             48.0  154000.0  Departamento  \n",
       "34           52.0             48.0  188000.0  Departamento  \n",
       "35           81.0             76.0  410000.0  Departamento  \n",
       "36           42.0             38.0  169000.0  Departamento  \n",
       "38           49.0             41.0  169000.0  Departamento  "
      ]
     },
     "execution_count": 58,
     "metadata": {},
     "output_type": "execute_result"
    }
   ],
   "source": [
    "dp.head(5)"
   ]
  },
  {
   "cell_type": "code",
   "execution_count": 59,
   "id": "6d8309bb",
   "metadata": {},
   "outputs": [
    {
     "data": {
      "text/plain": [
       "(45383, 11)"
      ]
     },
     "execution_count": 59,
     "metadata": {},
     "output_type": "execute_result"
    }
   ],
   "source": [
    "dp.shape"
   ]
  },
  {
   "cell_type": "code",
   "execution_count": 60,
   "id": "5add5656",
   "metadata": {},
   "outputs": [
    {
     "data": {
      "text/plain": [
       "<AxesSubplot:>"
      ]
     },
     "execution_count": 60,
     "metadata": {},
     "output_type": "execute_result"
    }
   ],
   "source": [
    "fig =plt.subplots(figsize=(8,8))\n",
    "sns.heatmap(dp.corr(), annot=True)"
   ]
  },
  {
   "cell_type": "markdown",
   "id": "702449d4",
   "metadata": {},
   "source": [
    "### Enconding "
   ]
  },
  {
   "cell_type": "code",
   "execution_count": 61,
   "id": "e9bbfeb9",
   "metadata": {},
   "outputs": [
    {
     "data": {
      "text/html": [
       "<div>\n",
       "<style scoped>\n",
       "    .dataframe tbody tr th:only-of-type {\n",
       "        vertical-align: middle;\n",
       "    }\n",
       "\n",
       "    .dataframe tbody tr th {\n",
       "        vertical-align: top;\n",
       "    }\n",
       "\n",
       "    .dataframe thead th {\n",
       "        text-align: right;\n",
       "    }\n",
       "</style>\n",
       "<table border=\"1\" class=\"dataframe\">\n",
       "  <thead>\n",
       "    <tr style=\"text-align: right;\">\n",
       "      <th></th>\n",
       "      <th>created_on</th>\n",
       "      <th>lat</th>\n",
       "      <th>lon</th>\n",
       "      <th>l3</th>\n",
       "      <th>rooms</th>\n",
       "      <th>bedrooms</th>\n",
       "      <th>bathrooms</th>\n",
       "      <th>surface_total</th>\n",
       "      <th>surface_covered</th>\n",
       "      <th>price</th>\n",
       "      <th>property_type</th>\n",
       "    </tr>\n",
       "  </thead>\n",
       "  <tbody>\n",
       "    <tr>\n",
       "      <th>24</th>\n",
       "      <td>2019-10-17</td>\n",
       "      <td>-34.636661</td>\n",
       "      <td>-58.471170</td>\n",
       "      <td>Flores</td>\n",
       "      <td>2.0</td>\n",
       "      <td>1.0</td>\n",
       "      <td>1.0</td>\n",
       "      <td>58.0</td>\n",
       "      <td>48.0</td>\n",
       "      <td>154000.0</td>\n",
       "      <td>Departamento</td>\n",
       "    </tr>\n",
       "    <tr>\n",
       "      <th>34</th>\n",
       "      <td>2019-10-17</td>\n",
       "      <td>-34.590031</td>\n",
       "      <td>-58.423771</td>\n",
       "      <td>Palermo</td>\n",
       "      <td>2.0</td>\n",
       "      <td>1.0</td>\n",
       "      <td>1.0</td>\n",
       "      <td>52.0</td>\n",
       "      <td>48.0</td>\n",
       "      <td>188000.0</td>\n",
       "      <td>Departamento</td>\n",
       "    </tr>\n",
       "    <tr>\n",
       "      <th>35</th>\n",
       "      <td>2019-10-17</td>\n",
       "      <td>-34.599037</td>\n",
       "      <td>-58.435970</td>\n",
       "      <td>Palermo</td>\n",
       "      <td>2.0</td>\n",
       "      <td>1.0</td>\n",
       "      <td>2.0</td>\n",
       "      <td>81.0</td>\n",
       "      <td>76.0</td>\n",
       "      <td>410000.0</td>\n",
       "      <td>Departamento</td>\n",
       "    </tr>\n",
       "    <tr>\n",
       "      <th>36</th>\n",
       "      <td>2019-10-17</td>\n",
       "      <td>-34.599037</td>\n",
       "      <td>-58.435970</td>\n",
       "      <td>Palermo</td>\n",
       "      <td>2.0</td>\n",
       "      <td>1.0</td>\n",
       "      <td>1.0</td>\n",
       "      <td>42.0</td>\n",
       "      <td>38.0</td>\n",
       "      <td>169000.0</td>\n",
       "      <td>Departamento</td>\n",
       "    </tr>\n",
       "    <tr>\n",
       "      <th>38</th>\n",
       "      <td>2019-10-17</td>\n",
       "      <td>-34.597613</td>\n",
       "      <td>-58.416688</td>\n",
       "      <td>Palermo</td>\n",
       "      <td>2.0</td>\n",
       "      <td>1.0</td>\n",
       "      <td>1.0</td>\n",
       "      <td>49.0</td>\n",
       "      <td>41.0</td>\n",
       "      <td>169000.0</td>\n",
       "      <td>Departamento</td>\n",
       "    </tr>\n",
       "  </tbody>\n",
       "</table>\n",
       "</div>"
      ],
      "text/plain": [
       "    created_on        lat        lon       l3  rooms  bedrooms  bathrooms  \\\n",
       "24  2019-10-17 -34.636661 -58.471170   Flores    2.0       1.0        1.0   \n",
       "34  2019-10-17 -34.590031 -58.423771  Palermo    2.0       1.0        1.0   \n",
       "35  2019-10-17 -34.599037 -58.435970  Palermo    2.0       1.0        2.0   \n",
       "36  2019-10-17 -34.599037 -58.435970  Palermo    2.0       1.0        1.0   \n",
       "38  2019-10-17 -34.597613 -58.416688  Palermo    2.0       1.0        1.0   \n",
       "\n",
       "    surface_total  surface_covered     price property_type  \n",
       "24           58.0             48.0  154000.0  Departamento  \n",
       "34           52.0             48.0  188000.0  Departamento  \n",
       "35           81.0             76.0  410000.0  Departamento  \n",
       "36           42.0             38.0  169000.0  Departamento  \n",
       "38           49.0             41.0  169000.0  Departamento  "
      ]
     },
     "execution_count": 61,
     "metadata": {},
     "output_type": "execute_result"
    }
   ],
   "source": [
    "dp.head()"
   ]
  },
  {
   "cell_type": "code",
   "execution_count": 62,
   "id": "ec447ea2",
   "metadata": {},
   "outputs": [
    {
     "data": {
      "text/html": [
       "<div>\n",
       "<style scoped>\n",
       "    .dataframe tbody tr th:only-of-type {\n",
       "        vertical-align: middle;\n",
       "    }\n",
       "\n",
       "    .dataframe tbody tr th {\n",
       "        vertical-align: top;\n",
       "    }\n",
       "\n",
       "    .dataframe thead th {\n",
       "        text-align: right;\n",
       "    }\n",
       "</style>\n",
       "<table border=\"1\" class=\"dataframe\">\n",
       "  <thead>\n",
       "    <tr style=\"text-align: right;\">\n",
       "      <th></th>\n",
       "      <th>lat</th>\n",
       "      <th>lon</th>\n",
       "      <th>l3</th>\n",
       "      <th>rooms</th>\n",
       "      <th>bedrooms</th>\n",
       "      <th>bathrooms</th>\n",
       "      <th>surface_total</th>\n",
       "      <th>surface_covered</th>\n",
       "      <th>price</th>\n",
       "      <th>property_type</th>\n",
       "      <th>fechas</th>\n",
       "    </tr>\n",
       "  </thead>\n",
       "  <tbody>\n",
       "    <tr>\n",
       "      <th>24</th>\n",
       "      <td>-34.636661</td>\n",
       "      <td>-58.471170</td>\n",
       "      <td>Flores</td>\n",
       "      <td>2.0</td>\n",
       "      <td>1.0</td>\n",
       "      <td>1.0</td>\n",
       "      <td>58.0</td>\n",
       "      <td>48.0</td>\n",
       "      <td>154000.0</td>\n",
       "      <td>Departamento</td>\n",
       "      <td>2019-10-17</td>\n",
       "    </tr>\n",
       "    <tr>\n",
       "      <th>34</th>\n",
       "      <td>-34.590031</td>\n",
       "      <td>-58.423771</td>\n",
       "      <td>Palermo</td>\n",
       "      <td>2.0</td>\n",
       "      <td>1.0</td>\n",
       "      <td>1.0</td>\n",
       "      <td>52.0</td>\n",
       "      <td>48.0</td>\n",
       "      <td>188000.0</td>\n",
       "      <td>Departamento</td>\n",
       "      <td>2019-10-17</td>\n",
       "    </tr>\n",
       "    <tr>\n",
       "      <th>35</th>\n",
       "      <td>-34.599037</td>\n",
       "      <td>-58.435970</td>\n",
       "      <td>Palermo</td>\n",
       "      <td>2.0</td>\n",
       "      <td>1.0</td>\n",
       "      <td>2.0</td>\n",
       "      <td>81.0</td>\n",
       "      <td>76.0</td>\n",
       "      <td>410000.0</td>\n",
       "      <td>Departamento</td>\n",
       "      <td>2019-10-17</td>\n",
       "    </tr>\n",
       "    <tr>\n",
       "      <th>36</th>\n",
       "      <td>-34.599037</td>\n",
       "      <td>-58.435970</td>\n",
       "      <td>Palermo</td>\n",
       "      <td>2.0</td>\n",
       "      <td>1.0</td>\n",
       "      <td>1.0</td>\n",
       "      <td>42.0</td>\n",
       "      <td>38.0</td>\n",
       "      <td>169000.0</td>\n",
       "      <td>Departamento</td>\n",
       "      <td>2019-10-17</td>\n",
       "    </tr>\n",
       "    <tr>\n",
       "      <th>38</th>\n",
       "      <td>-34.597613</td>\n",
       "      <td>-58.416688</td>\n",
       "      <td>Palermo</td>\n",
       "      <td>2.0</td>\n",
       "      <td>1.0</td>\n",
       "      <td>1.0</td>\n",
       "      <td>49.0</td>\n",
       "      <td>41.0</td>\n",
       "      <td>169000.0</td>\n",
       "      <td>Departamento</td>\n",
       "      <td>2019-10-17</td>\n",
       "    </tr>\n",
       "  </tbody>\n",
       "</table>\n",
       "</div>"
      ],
      "text/plain": [
       "          lat        lon       l3  rooms  bedrooms  bathrooms  surface_total  \\\n",
       "24 -34.636661 -58.471170   Flores    2.0       1.0        1.0           58.0   \n",
       "34 -34.590031 -58.423771  Palermo    2.0       1.0        1.0           52.0   \n",
       "35 -34.599037 -58.435970  Palermo    2.0       1.0        2.0           81.0   \n",
       "36 -34.599037 -58.435970  Palermo    2.0       1.0        1.0           42.0   \n",
       "38 -34.597613 -58.416688  Palermo    2.0       1.0        1.0           49.0   \n",
       "\n",
       "    surface_covered     price property_type     fechas  \n",
       "24             48.0  154000.0  Departamento 2019-10-17  \n",
       "34             48.0  188000.0  Departamento 2019-10-17  \n",
       "35             76.0  410000.0  Departamento 2019-10-17  \n",
       "36             38.0  169000.0  Departamento 2019-10-17  \n",
       "38             41.0  169000.0  Departamento 2019-10-17  "
      ]
     },
     "execution_count": 62,
     "metadata": {},
     "output_type": "execute_result"
    }
   ],
   "source": [
    "dp[\"fechas\"]=pd.to_datetime(dp.created_on, format=\"%Y-%m-%d\")\n",
    "dp.drop(\"created_on\", axis=1,inplace = True)\n",
    "dp.head()"
   ]
  },
  {
   "cell_type": "code",
   "execution_count": 63,
   "id": "c5d0dbb1",
   "metadata": {},
   "outputs": [
    {
     "data": {
      "text/html": [
       "<div>\n",
       "<style scoped>\n",
       "    .dataframe tbody tr th:only-of-type {\n",
       "        vertical-align: middle;\n",
       "    }\n",
       "\n",
       "    .dataframe tbody tr th {\n",
       "        vertical-align: top;\n",
       "    }\n",
       "\n",
       "    .dataframe thead th {\n",
       "        text-align: right;\n",
       "    }\n",
       "</style>\n",
       "<table border=\"1\" class=\"dataframe\">\n",
       "  <thead>\n",
       "    <tr style=\"text-align: right;\">\n",
       "      <th></th>\n",
       "      <th>lat</th>\n",
       "      <th>lon</th>\n",
       "      <th>l3</th>\n",
       "      <th>rooms</th>\n",
       "      <th>bedrooms</th>\n",
       "      <th>bathrooms</th>\n",
       "      <th>surface_total</th>\n",
       "      <th>surface_covered</th>\n",
       "      <th>price</th>\n",
       "      <th>property_type</th>\n",
       "      <th>año</th>\n",
       "    </tr>\n",
       "  </thead>\n",
       "  <tbody>\n",
       "    <tr>\n",
       "      <th>24</th>\n",
       "      <td>-34.636661</td>\n",
       "      <td>-58.471170</td>\n",
       "      <td>Flores</td>\n",
       "      <td>2.0</td>\n",
       "      <td>1.0</td>\n",
       "      <td>1.0</td>\n",
       "      <td>58.0</td>\n",
       "      <td>48.0</td>\n",
       "      <td>154000.0</td>\n",
       "      <td>Departamento</td>\n",
       "      <td>2019</td>\n",
       "    </tr>\n",
       "    <tr>\n",
       "      <th>34</th>\n",
       "      <td>-34.590031</td>\n",
       "      <td>-58.423771</td>\n",
       "      <td>Palermo</td>\n",
       "      <td>2.0</td>\n",
       "      <td>1.0</td>\n",
       "      <td>1.0</td>\n",
       "      <td>52.0</td>\n",
       "      <td>48.0</td>\n",
       "      <td>188000.0</td>\n",
       "      <td>Departamento</td>\n",
       "      <td>2019</td>\n",
       "    </tr>\n",
       "    <tr>\n",
       "      <th>35</th>\n",
       "      <td>-34.599037</td>\n",
       "      <td>-58.435970</td>\n",
       "      <td>Palermo</td>\n",
       "      <td>2.0</td>\n",
       "      <td>1.0</td>\n",
       "      <td>2.0</td>\n",
       "      <td>81.0</td>\n",
       "      <td>76.0</td>\n",
       "      <td>410000.0</td>\n",
       "      <td>Departamento</td>\n",
       "      <td>2019</td>\n",
       "    </tr>\n",
       "    <tr>\n",
       "      <th>36</th>\n",
       "      <td>-34.599037</td>\n",
       "      <td>-58.435970</td>\n",
       "      <td>Palermo</td>\n",
       "      <td>2.0</td>\n",
       "      <td>1.0</td>\n",
       "      <td>1.0</td>\n",
       "      <td>42.0</td>\n",
       "      <td>38.0</td>\n",
       "      <td>169000.0</td>\n",
       "      <td>Departamento</td>\n",
       "      <td>2019</td>\n",
       "    </tr>\n",
       "    <tr>\n",
       "      <th>38</th>\n",
       "      <td>-34.597613</td>\n",
       "      <td>-58.416688</td>\n",
       "      <td>Palermo</td>\n",
       "      <td>2.0</td>\n",
       "      <td>1.0</td>\n",
       "      <td>1.0</td>\n",
       "      <td>49.0</td>\n",
       "      <td>41.0</td>\n",
       "      <td>169000.0</td>\n",
       "      <td>Departamento</td>\n",
       "      <td>2019</td>\n",
       "    </tr>\n",
       "  </tbody>\n",
       "</table>\n",
       "</div>"
      ],
      "text/plain": [
       "          lat        lon       l3  rooms  bedrooms  bathrooms  surface_total  \\\n",
       "24 -34.636661 -58.471170   Flores    2.0       1.0        1.0           58.0   \n",
       "34 -34.590031 -58.423771  Palermo    2.0       1.0        1.0           52.0   \n",
       "35 -34.599037 -58.435970  Palermo    2.0       1.0        2.0           81.0   \n",
       "36 -34.599037 -58.435970  Palermo    2.0       1.0        1.0           42.0   \n",
       "38 -34.597613 -58.416688  Palermo    2.0       1.0        1.0           49.0   \n",
       "\n",
       "    surface_covered     price property_type   año  \n",
       "24             48.0  154000.0  Departamento  2019  \n",
       "34             48.0  188000.0  Departamento  2019  \n",
       "35             76.0  410000.0  Departamento  2019  \n",
       "36             38.0  169000.0  Departamento  2019  \n",
       "38             41.0  169000.0  Departamento  2019  "
      ]
     },
     "execution_count": 63,
     "metadata": {},
     "output_type": "execute_result"
    }
   ],
   "source": [
    "dp[\"año\"]= pd.DatetimeIndex(dp[\"fechas\"]).year\n",
    "dp.drop(\"fechas\",axis=1,inplace=True)\n",
    "dp.head()"
   ]
  },
  {
   "cell_type": "code",
   "execution_count": 64,
   "id": "68df3d9c",
   "metadata": {},
   "outputs": [
    {
     "data": {
      "text/html": [
       "<div>\n",
       "<style scoped>\n",
       "    .dataframe tbody tr th:only-of-type {\n",
       "        vertical-align: middle;\n",
       "    }\n",
       "\n",
       "    .dataframe tbody tr th {\n",
       "        vertical-align: top;\n",
       "    }\n",
       "\n",
       "    .dataframe thead th {\n",
       "        text-align: right;\n",
       "    }\n",
       "</style>\n",
       "<table border=\"1\" class=\"dataframe\">\n",
       "  <thead>\n",
       "    <tr style=\"text-align: right;\">\n",
       "      <th></th>\n",
       "      <th>lat</th>\n",
       "      <th>lon</th>\n",
       "      <th>l3</th>\n",
       "      <th>rooms</th>\n",
       "      <th>bedrooms</th>\n",
       "      <th>bathrooms</th>\n",
       "      <th>surface_total</th>\n",
       "      <th>surface_covered</th>\n",
       "      <th>price</th>\n",
       "      <th>property_type</th>\n",
       "      <th>años</th>\n",
       "    </tr>\n",
       "  </thead>\n",
       "  <tbody>\n",
       "    <tr>\n",
       "      <th>24</th>\n",
       "      <td>-34.636661</td>\n",
       "      <td>-58.471170</td>\n",
       "      <td>Flores</td>\n",
       "      <td>2.0</td>\n",
       "      <td>1.0</td>\n",
       "      <td>1.0</td>\n",
       "      <td>58.0</td>\n",
       "      <td>48.0</td>\n",
       "      <td>154000.0</td>\n",
       "      <td>Departamento</td>\n",
       "      <td>0</td>\n",
       "    </tr>\n",
       "    <tr>\n",
       "      <th>34</th>\n",
       "      <td>-34.590031</td>\n",
       "      <td>-58.423771</td>\n",
       "      <td>Palermo</td>\n",
       "      <td>2.0</td>\n",
       "      <td>1.0</td>\n",
       "      <td>1.0</td>\n",
       "      <td>52.0</td>\n",
       "      <td>48.0</td>\n",
       "      <td>188000.0</td>\n",
       "      <td>Departamento</td>\n",
       "      <td>0</td>\n",
       "    </tr>\n",
       "    <tr>\n",
       "      <th>35</th>\n",
       "      <td>-34.599037</td>\n",
       "      <td>-58.435970</td>\n",
       "      <td>Palermo</td>\n",
       "      <td>2.0</td>\n",
       "      <td>1.0</td>\n",
       "      <td>2.0</td>\n",
       "      <td>81.0</td>\n",
       "      <td>76.0</td>\n",
       "      <td>410000.0</td>\n",
       "      <td>Departamento</td>\n",
       "      <td>0</td>\n",
       "    </tr>\n",
       "    <tr>\n",
       "      <th>36</th>\n",
       "      <td>-34.599037</td>\n",
       "      <td>-58.435970</td>\n",
       "      <td>Palermo</td>\n",
       "      <td>2.0</td>\n",
       "      <td>1.0</td>\n",
       "      <td>1.0</td>\n",
       "      <td>42.0</td>\n",
       "      <td>38.0</td>\n",
       "      <td>169000.0</td>\n",
       "      <td>Departamento</td>\n",
       "      <td>0</td>\n",
       "    </tr>\n",
       "    <tr>\n",
       "      <th>38</th>\n",
       "      <td>-34.597613</td>\n",
       "      <td>-58.416688</td>\n",
       "      <td>Palermo</td>\n",
       "      <td>2.0</td>\n",
       "      <td>1.0</td>\n",
       "      <td>1.0</td>\n",
       "      <td>49.0</td>\n",
       "      <td>41.0</td>\n",
       "      <td>169000.0</td>\n",
       "      <td>Departamento</td>\n",
       "      <td>0</td>\n",
       "    </tr>\n",
       "    <tr>\n",
       "      <th>43</th>\n",
       "      <td>-34.597613</td>\n",
       "      <td>-58.416688</td>\n",
       "      <td>Palermo</td>\n",
       "      <td>2.0</td>\n",
       "      <td>1.0</td>\n",
       "      <td>1.0</td>\n",
       "      <td>49.0</td>\n",
       "      <td>41.0</td>\n",
       "      <td>169000.0</td>\n",
       "      <td>Departamento</td>\n",
       "      <td>0</td>\n",
       "    </tr>\n",
       "    <tr>\n",
       "      <th>45</th>\n",
       "      <td>-34.597613</td>\n",
       "      <td>-58.416688</td>\n",
       "      <td>Palermo</td>\n",
       "      <td>2.0</td>\n",
       "      <td>1.0</td>\n",
       "      <td>1.0</td>\n",
       "      <td>49.0</td>\n",
       "      <td>41.0</td>\n",
       "      <td>169000.0</td>\n",
       "      <td>Departamento</td>\n",
       "      <td>0</td>\n",
       "    </tr>\n",
       "    <tr>\n",
       "      <th>46</th>\n",
       "      <td>-34.599037</td>\n",
       "      <td>-58.435970</td>\n",
       "      <td>Palermo</td>\n",
       "      <td>2.0</td>\n",
       "      <td>1.0</td>\n",
       "      <td>1.0</td>\n",
       "      <td>52.0</td>\n",
       "      <td>46.0</td>\n",
       "      <td>159500.0</td>\n",
       "      <td>Departamento</td>\n",
       "      <td>0</td>\n",
       "    </tr>\n",
       "    <tr>\n",
       "      <th>49</th>\n",
       "      <td>-34.597613</td>\n",
       "      <td>-58.416688</td>\n",
       "      <td>Palermo</td>\n",
       "      <td>2.0</td>\n",
       "      <td>1.0</td>\n",
       "      <td>1.0</td>\n",
       "      <td>49.0</td>\n",
       "      <td>41.0</td>\n",
       "      <td>169000.0</td>\n",
       "      <td>Departamento</td>\n",
       "      <td>0</td>\n",
       "    </tr>\n",
       "    <tr>\n",
       "      <th>50</th>\n",
       "      <td>-34.583199</td>\n",
       "      <td>-58.433708</td>\n",
       "      <td>Palermo</td>\n",
       "      <td>2.0</td>\n",
       "      <td>1.0</td>\n",
       "      <td>1.0</td>\n",
       "      <td>54.0</td>\n",
       "      <td>54.0</td>\n",
       "      <td>240000.0</td>\n",
       "      <td>Departamento</td>\n",
       "      <td>0</td>\n",
       "    </tr>\n",
       "  </tbody>\n",
       "</table>\n",
       "</div>"
      ],
      "text/plain": [
       "          lat        lon       l3  rooms  bedrooms  bathrooms  surface_total  \\\n",
       "24 -34.636661 -58.471170   Flores    2.0       1.0        1.0           58.0   \n",
       "34 -34.590031 -58.423771  Palermo    2.0       1.0        1.0           52.0   \n",
       "35 -34.599037 -58.435970  Palermo    2.0       1.0        2.0           81.0   \n",
       "36 -34.599037 -58.435970  Palermo    2.0       1.0        1.0           42.0   \n",
       "38 -34.597613 -58.416688  Palermo    2.0       1.0        1.0           49.0   \n",
       "43 -34.597613 -58.416688  Palermo    2.0       1.0        1.0           49.0   \n",
       "45 -34.597613 -58.416688  Palermo    2.0       1.0        1.0           49.0   \n",
       "46 -34.599037 -58.435970  Palermo    2.0       1.0        1.0           52.0   \n",
       "49 -34.597613 -58.416688  Palermo    2.0       1.0        1.0           49.0   \n",
       "50 -34.583199 -58.433708  Palermo    2.0       1.0        1.0           54.0   \n",
       "\n",
       "    surface_covered     price property_type  años  \n",
       "24             48.0  154000.0  Departamento     0  \n",
       "34             48.0  188000.0  Departamento     0  \n",
       "35             76.0  410000.0  Departamento     0  \n",
       "36             38.0  169000.0  Departamento     0  \n",
       "38             41.0  169000.0  Departamento     0  \n",
       "43             41.0  169000.0  Departamento     0  \n",
       "45             41.0  169000.0  Departamento     0  \n",
       "46             46.0  159500.0  Departamento     0  \n",
       "49             41.0  169000.0  Departamento     0  \n",
       "50             54.0  240000.0  Departamento     0  "
      ]
     },
     "execution_count": 64,
     "metadata": {},
     "output_type": "execute_result"
    }
   ],
   "source": [
    "Labelencoder = LabelEncoder()\n",
    "Labelencoder.fit(dp[\"año\"])\n",
    "dp[\"años\"] = Labelencoder.transform(dp[\"año\"])\n",
    "dp.drop(\"año\", axis=1, inplace=True)\n",
    "dp.head(10)"
   ]
  },
  {
   "cell_type": "code",
   "execution_count": 65,
   "id": "c9362855",
   "metadata": {},
   "outputs": [],
   "source": [
    "Labelencoder= LabelEncoder()\n",
    "Labelencoder.fit(dp[\"property_type\"])\n",
    "dp[\"Tipo_propiedad\"]=Labelencoder.transform(dp[\"property_type\"])\n",
    "dp.drop(\"property_type\",axis=1,inplace=True)"
   ]
  },
  {
   "cell_type": "code",
   "execution_count": 66,
   "id": "745dc8fc",
   "metadata": {},
   "outputs": [
    {
     "data": {
      "text/plain": [
       "['Casa', 'Departamento', 'PH']"
      ]
     },
     "execution_count": 66,
     "metadata": {},
     "output_type": "execute_result"
    }
   ],
   "source": [
    "list(Labelencoder.classes_)"
   ]
  },
  {
   "cell_type": "markdown",
   "id": "61a43f91",
   "metadata": {},
   "source": [
    "### Casa = 0, Dpto = 1 y PH = 2"
   ]
  },
  {
   "cell_type": "code",
   "execution_count": 67,
   "id": "8a59bc1e",
   "metadata": {},
   "outputs": [
    {
     "data": {
      "text/plain": [
       "array([0, 1, 2])"
      ]
     },
     "execution_count": 67,
     "metadata": {},
     "output_type": "execute_result"
    }
   ],
   "source": [
    "Labelencoder.transform([\"Casa\", \"Departamento\", \"PH\"])"
   ]
  },
  {
   "cell_type": "code",
   "execution_count": 68,
   "id": "82a9b153",
   "metadata": {},
   "outputs": [
    {
     "data": {
      "text/html": [
       "<div>\n",
       "<style scoped>\n",
       "    .dataframe tbody tr th:only-of-type {\n",
       "        vertical-align: middle;\n",
       "    }\n",
       "\n",
       "    .dataframe tbody tr th {\n",
       "        vertical-align: top;\n",
       "    }\n",
       "\n",
       "    .dataframe thead th {\n",
       "        text-align: right;\n",
       "    }\n",
       "</style>\n",
       "<table border=\"1\" class=\"dataframe\">\n",
       "  <thead>\n",
       "    <tr style=\"text-align: right;\">\n",
       "      <th></th>\n",
       "      <th>lat</th>\n",
       "      <th>lon</th>\n",
       "      <th>l3</th>\n",
       "      <th>rooms</th>\n",
       "      <th>bedrooms</th>\n",
       "      <th>bathrooms</th>\n",
       "      <th>surface_total</th>\n",
       "      <th>surface_covered</th>\n",
       "      <th>price</th>\n",
       "      <th>años</th>\n",
       "      <th>Tipo_propiedad</th>\n",
       "    </tr>\n",
       "  </thead>\n",
       "  <tbody>\n",
       "    <tr>\n",
       "      <th>24</th>\n",
       "      <td>-34.636661</td>\n",
       "      <td>-58.471170</td>\n",
       "      <td>Flores</td>\n",
       "      <td>2.0</td>\n",
       "      <td>1.0</td>\n",
       "      <td>1.0</td>\n",
       "      <td>58.0</td>\n",
       "      <td>48.0</td>\n",
       "      <td>154000.0</td>\n",
       "      <td>0</td>\n",
       "      <td>1</td>\n",
       "    </tr>\n",
       "    <tr>\n",
       "      <th>34</th>\n",
       "      <td>-34.590031</td>\n",
       "      <td>-58.423771</td>\n",
       "      <td>Palermo</td>\n",
       "      <td>2.0</td>\n",
       "      <td>1.0</td>\n",
       "      <td>1.0</td>\n",
       "      <td>52.0</td>\n",
       "      <td>48.0</td>\n",
       "      <td>188000.0</td>\n",
       "      <td>0</td>\n",
       "      <td>1</td>\n",
       "    </tr>\n",
       "    <tr>\n",
       "      <th>35</th>\n",
       "      <td>-34.599037</td>\n",
       "      <td>-58.435970</td>\n",
       "      <td>Palermo</td>\n",
       "      <td>2.0</td>\n",
       "      <td>1.0</td>\n",
       "      <td>2.0</td>\n",
       "      <td>81.0</td>\n",
       "      <td>76.0</td>\n",
       "      <td>410000.0</td>\n",
       "      <td>0</td>\n",
       "      <td>1</td>\n",
       "    </tr>\n",
       "    <tr>\n",
       "      <th>36</th>\n",
       "      <td>-34.599037</td>\n",
       "      <td>-58.435970</td>\n",
       "      <td>Palermo</td>\n",
       "      <td>2.0</td>\n",
       "      <td>1.0</td>\n",
       "      <td>1.0</td>\n",
       "      <td>42.0</td>\n",
       "      <td>38.0</td>\n",
       "      <td>169000.0</td>\n",
       "      <td>0</td>\n",
       "      <td>1</td>\n",
       "    </tr>\n",
       "    <tr>\n",
       "      <th>38</th>\n",
       "      <td>-34.597613</td>\n",
       "      <td>-58.416688</td>\n",
       "      <td>Palermo</td>\n",
       "      <td>2.0</td>\n",
       "      <td>1.0</td>\n",
       "      <td>1.0</td>\n",
       "      <td>49.0</td>\n",
       "      <td>41.0</td>\n",
       "      <td>169000.0</td>\n",
       "      <td>0</td>\n",
       "      <td>1</td>\n",
       "    </tr>\n",
       "  </tbody>\n",
       "</table>\n",
       "</div>"
      ],
      "text/plain": [
       "          lat        lon       l3  rooms  bedrooms  bathrooms  surface_total  \\\n",
       "24 -34.636661 -58.471170   Flores    2.0       1.0        1.0           58.0   \n",
       "34 -34.590031 -58.423771  Palermo    2.0       1.0        1.0           52.0   \n",
       "35 -34.599037 -58.435970  Palermo    2.0       1.0        2.0           81.0   \n",
       "36 -34.599037 -58.435970  Palermo    2.0       1.0        1.0           42.0   \n",
       "38 -34.597613 -58.416688  Palermo    2.0       1.0        1.0           49.0   \n",
       "\n",
       "    surface_covered     price  años  Tipo_propiedad  \n",
       "24             48.0  154000.0     0               1  \n",
       "34             48.0  188000.0     0               1  \n",
       "35             76.0  410000.0     0               1  \n",
       "36             38.0  169000.0     0               1  \n",
       "38             41.0  169000.0     0               1  "
      ]
     },
     "execution_count": 68,
     "metadata": {},
     "output_type": "execute_result"
    }
   ],
   "source": [
    "dp.head()"
   ]
  },
  {
   "cell_type": "markdown",
   "id": "f76fdb0a",
   "metadata": {},
   "source": [
    "### Desafio"
   ]
  },
  {
   "cell_type": "code",
   "execution_count": 69,
   "id": "2c20f26c",
   "metadata": {},
   "outputs": [],
   "source": [
    "dataset_cluster= dp.copy()"
   ]
  },
  {
   "cell_type": "code",
   "execution_count": 70,
   "id": "82108796",
   "metadata": {},
   "outputs": [
    {
     "data": {
      "text/html": [
       "<div>\n",
       "<style scoped>\n",
       "    .dataframe tbody tr th:only-of-type {\n",
       "        vertical-align: middle;\n",
       "    }\n",
       "\n",
       "    .dataframe tbody tr th {\n",
       "        vertical-align: top;\n",
       "    }\n",
       "\n",
       "    .dataframe thead th {\n",
       "        text-align: right;\n",
       "    }\n",
       "</style>\n",
       "<table border=\"1\" class=\"dataframe\">\n",
       "  <thead>\n",
       "    <tr style=\"text-align: right;\">\n",
       "      <th></th>\n",
       "      <th>lat</th>\n",
       "      <th>lon</th>\n",
       "      <th>rooms</th>\n",
       "      <th>bedrooms</th>\n",
       "      <th>bathrooms</th>\n",
       "      <th>surface_total</th>\n",
       "      <th>surface_covered</th>\n",
       "      <th>price</th>\n",
       "      <th>años</th>\n",
       "      <th>Tipo_propiedad</th>\n",
       "      <th>...</th>\n",
       "      <th>barrio_Villa Lugano</th>\n",
       "      <th>barrio_Villa Luro</th>\n",
       "      <th>barrio_Villa Ortuzar</th>\n",
       "      <th>barrio_Villa Pueyrredón</th>\n",
       "      <th>barrio_Villa Real</th>\n",
       "      <th>barrio_Villa Riachuelo</th>\n",
       "      <th>barrio_Villa Santa Rita</th>\n",
       "      <th>barrio_Villa Soldati</th>\n",
       "      <th>barrio_Villa Urquiza</th>\n",
       "      <th>barrio_Villa del Parque</th>\n",
       "    </tr>\n",
       "  </thead>\n",
       "  <tbody>\n",
       "    <tr>\n",
       "      <th>24</th>\n",
       "      <td>-34.636661</td>\n",
       "      <td>-58.471170</td>\n",
       "      <td>2.0</td>\n",
       "      <td>1.0</td>\n",
       "      <td>1.0</td>\n",
       "      <td>58.0</td>\n",
       "      <td>48.0</td>\n",
       "      <td>154000.0</td>\n",
       "      <td>0</td>\n",
       "      <td>1</td>\n",
       "      <td>...</td>\n",
       "      <td>0</td>\n",
       "      <td>0</td>\n",
       "      <td>0</td>\n",
       "      <td>0</td>\n",
       "      <td>0</td>\n",
       "      <td>0</td>\n",
       "      <td>0</td>\n",
       "      <td>0</td>\n",
       "      <td>0</td>\n",
       "      <td>0</td>\n",
       "    </tr>\n",
       "    <tr>\n",
       "      <th>34</th>\n",
       "      <td>-34.590031</td>\n",
       "      <td>-58.423771</td>\n",
       "      <td>2.0</td>\n",
       "      <td>1.0</td>\n",
       "      <td>1.0</td>\n",
       "      <td>52.0</td>\n",
       "      <td>48.0</td>\n",
       "      <td>188000.0</td>\n",
       "      <td>0</td>\n",
       "      <td>1</td>\n",
       "      <td>...</td>\n",
       "      <td>0</td>\n",
       "      <td>0</td>\n",
       "      <td>0</td>\n",
       "      <td>0</td>\n",
       "      <td>0</td>\n",
       "      <td>0</td>\n",
       "      <td>0</td>\n",
       "      <td>0</td>\n",
       "      <td>0</td>\n",
       "      <td>0</td>\n",
       "    </tr>\n",
       "    <tr>\n",
       "      <th>35</th>\n",
       "      <td>-34.599037</td>\n",
       "      <td>-58.435970</td>\n",
       "      <td>2.0</td>\n",
       "      <td>1.0</td>\n",
       "      <td>2.0</td>\n",
       "      <td>81.0</td>\n",
       "      <td>76.0</td>\n",
       "      <td>410000.0</td>\n",
       "      <td>0</td>\n",
       "      <td>1</td>\n",
       "      <td>...</td>\n",
       "      <td>0</td>\n",
       "      <td>0</td>\n",
       "      <td>0</td>\n",
       "      <td>0</td>\n",
       "      <td>0</td>\n",
       "      <td>0</td>\n",
       "      <td>0</td>\n",
       "      <td>0</td>\n",
       "      <td>0</td>\n",
       "      <td>0</td>\n",
       "    </tr>\n",
       "    <tr>\n",
       "      <th>36</th>\n",
       "      <td>-34.599037</td>\n",
       "      <td>-58.435970</td>\n",
       "      <td>2.0</td>\n",
       "      <td>1.0</td>\n",
       "      <td>1.0</td>\n",
       "      <td>42.0</td>\n",
       "      <td>38.0</td>\n",
       "      <td>169000.0</td>\n",
       "      <td>0</td>\n",
       "      <td>1</td>\n",
       "      <td>...</td>\n",
       "      <td>0</td>\n",
       "      <td>0</td>\n",
       "      <td>0</td>\n",
       "      <td>0</td>\n",
       "      <td>0</td>\n",
       "      <td>0</td>\n",
       "      <td>0</td>\n",
       "      <td>0</td>\n",
       "      <td>0</td>\n",
       "      <td>0</td>\n",
       "    </tr>\n",
       "    <tr>\n",
       "      <th>38</th>\n",
       "      <td>-34.597613</td>\n",
       "      <td>-58.416688</td>\n",
       "      <td>2.0</td>\n",
       "      <td>1.0</td>\n",
       "      <td>1.0</td>\n",
       "      <td>49.0</td>\n",
       "      <td>41.0</td>\n",
       "      <td>169000.0</td>\n",
       "      <td>0</td>\n",
       "      <td>1</td>\n",
       "      <td>...</td>\n",
       "      <td>0</td>\n",
       "      <td>0</td>\n",
       "      <td>0</td>\n",
       "      <td>0</td>\n",
       "      <td>0</td>\n",
       "      <td>0</td>\n",
       "      <td>0</td>\n",
       "      <td>0</td>\n",
       "      <td>0</td>\n",
       "      <td>0</td>\n",
       "    </tr>\n",
       "  </tbody>\n",
       "</table>\n",
       "<p>5 rows × 66 columns</p>\n",
       "</div>"
      ],
      "text/plain": [
       "          lat        lon  rooms  bedrooms  bathrooms  surface_total  \\\n",
       "24 -34.636661 -58.471170    2.0       1.0        1.0           58.0   \n",
       "34 -34.590031 -58.423771    2.0       1.0        1.0           52.0   \n",
       "35 -34.599037 -58.435970    2.0       1.0        2.0           81.0   \n",
       "36 -34.599037 -58.435970    2.0       1.0        1.0           42.0   \n",
       "38 -34.597613 -58.416688    2.0       1.0        1.0           49.0   \n",
       "\n",
       "    surface_covered     price  años  Tipo_propiedad  ...  barrio_Villa Lugano  \\\n",
       "24             48.0  154000.0     0               1  ...                    0   \n",
       "34             48.0  188000.0     0               1  ...                    0   \n",
       "35             76.0  410000.0     0               1  ...                    0   \n",
       "36             38.0  169000.0     0               1  ...                    0   \n",
       "38             41.0  169000.0     0               1  ...                    0   \n",
       "\n",
       "    barrio_Villa Luro  barrio_Villa Ortuzar  barrio_Villa Pueyrredón  \\\n",
       "24                  0                     0                        0   \n",
       "34                  0                     0                        0   \n",
       "35                  0                     0                        0   \n",
       "36                  0                     0                        0   \n",
       "38                  0                     0                        0   \n",
       "\n",
       "    barrio_Villa Real  barrio_Villa Riachuelo  barrio_Villa Santa Rita  \\\n",
       "24                  0                       0                        0   \n",
       "34                  0                       0                        0   \n",
       "35                  0                       0                        0   \n",
       "36                  0                       0                        0   \n",
       "38                  0                       0                        0   \n",
       "\n",
       "    barrio_Villa Soldati  barrio_Villa Urquiza  barrio_Villa del Parque  \n",
       "24                     0                     0                        0  \n",
       "34                     0                     0                        0  \n",
       "35                     0                     0                        0  \n",
       "36                     0                     0                        0  \n",
       "38                     0                     0                        0  \n",
       "\n",
       "[5 rows x 66 columns]"
      ]
     },
     "execution_count": 70,
     "metadata": {},
     "output_type": "execute_result"
    }
   ],
   "source": [
    "dp = pd.get_dummies(data=dp,prefix=\"barrio\",columns=[\"l3\"],drop_first=True)\n",
    "dp.head()"
   ]
  },
  {
   "cell_type": "code",
   "execution_count": 71,
   "id": "d277fb83",
   "metadata": {},
   "outputs": [
    {
     "data": {
      "text/plain": [
       "<bound method NDFrame.head of 24        1\n",
       "34        1\n",
       "35        1\n",
       "36        1\n",
       "38        1\n",
       "         ..\n",
       "145556    0\n",
       "145557    0\n",
       "145608    0\n",
       "145610    0\n",
       "145615    0\n",
       "Name: Tipo_propiedad, Length: 45383, dtype: int32>"
      ]
     },
     "execution_count": 71,
     "metadata": {},
     "output_type": "execute_result"
    }
   ],
   "source": [
    "dp[\"Tipo_propiedad\"].head"
   ]
  },
  {
   "cell_type": "code",
   "execution_count": 72,
   "id": "3affc2fe",
   "metadata": {},
   "outputs": [
    {
     "data": {
      "text/plain": [
       "(45383, 66)"
      ]
     },
     "execution_count": 72,
     "metadata": {},
     "output_type": "execute_result"
    }
   ],
   "source": [
    "dp.shape"
   ]
  },
  {
   "cell_type": "code",
   "execution_count": 73,
   "id": "e4b155b0",
   "metadata": {},
   "outputs": [
    {
     "data": {
      "text/plain": [
       "<AxesSubplot:>"
      ]
     },
     "execution_count": 73,
     "metadata": {},
     "output_type": "execute_result"
    }
   ],
   "source": [
    "fig =plt.subplots(figsize=(8,8))\n",
    "dataset_prob=dp[[\"lat\",\"lon\",\"rooms\",\"bedrooms\",\"bathrooms\",\"surface_total\",\"surface_covered\",\"price\",\"años\",\"Tipo_propiedad\"]]\n",
    "dataset_prob.head()\n",
    "sns.heatmap(dataset_prob.corr(), annot=True)"
   ]
  },
  {
   "cell_type": "markdown",
   "id": "1db04786",
   "metadata": {},
   "source": [
    "### Escalada de datos"
   ]
  },
  {
   "cell_type": "code",
   "execution_count": 74,
   "id": "0ca608bf",
   "metadata": {},
   "outputs": [],
   "source": [
    "dp1 = dp.copy()\n",
    "X = dp1.drop(\"price\",axis=1)\n",
    "y = dp1[\"price\"]"
   ]
  },
  {
   "cell_type": "code",
   "execution_count": 75,
   "id": "1f000597",
   "metadata": {},
   "outputs": [],
   "source": [
    "from sklearn import preprocessing"
   ]
  },
  {
   "cell_type": "code",
   "execution_count": 76,
   "id": "f9ae94a1",
   "metadata": {},
   "outputs": [],
   "source": [
    "robust_sc = preprocessing.RobustScaler()\n",
    "standard_sc = preprocessing.StandardScaler() \n",
    "minmax_sc = preprocessing.MinMaxScaler() "
   ]
  },
  {
   "cell_type": "code",
   "execution_count": 77,
   "id": "662a3118",
   "metadata": {},
   "outputs": [
    {
     "name": "stdout",
     "output_type": "stream",
     "text": [
      "El escalado Utilizado---> RobustScaler()\n",
      "RMSE segun el tipo de estrategia: 44172.628774222336\n",
      "----------------------------------------\n",
      "El escalado Utilizado---> StandardScaler()\n",
      "RMSE segun el tipo de estrategia: 44172.628774222336\n",
      "----------------------------------------\n",
      "El escalado Utilizado---> MinMaxScaler()\n",
      "RMSE segun el tipo de estrategia: 44172.628774222336\n",
      "----------------------------------------\n"
     ]
    }
   ],
   "source": [
    "from sklearn import metrics\n",
    "from sklearn.metrics import mean_squared_error\n",
    "resultado = []\n",
    "for x in [robust_sc,standard_sc,minmax_sc]:\n",
    "    scaler = x.fit(X)\n",
    "    X_new = x.transform(X)\n",
    "    tree = DecisionTreeRegressor(max_depth=10,random_state=42)\n",
    "    tree.fit(X_new,y)\n",
    "    y_pred = tree.predict(X_new)\n",
    "    r2 = metrics.r2_score(y, y_pred)\n",
    "    RMSE=np.sqrt(mean_squared_error(y,y_pred))\n",
    "    resultado.append(r2)\n",
    "    print(\"El escalado Utilizado--->\",x)\n",
    "    print(\"RMSE segun el tipo de estrategia:\",RMSE)\n",
    "    print(\"----------------------------------------\")"
   ]
  },
  {
   "cell_type": "markdown",
   "id": "5a12b5f2",
   "metadata": {},
   "source": [
    "El escalado se probó de 3 diferentes maneras, dando como resultado co un RMSE mejor la estrategia RobusScaler() y la estrategia MinmaxScaler()"
   ]
  },
  {
   "cell_type": "code",
   "execution_count": 78,
   "id": "b47a5a60",
   "metadata": {},
   "outputs": [],
   "source": [
    "X = dp.drop(\"price\", axis=1).values\n",
    "y = dp[\"price\"].values"
   ]
  },
  {
   "cell_type": "code",
   "execution_count": 79,
   "id": "8669c60f",
   "metadata": {},
   "outputs": [],
   "source": [
    "X_train,X_test,y_train,y_test= train_test_split(X,y,test_size=0.3,random_state=42)"
   ]
  },
  {
   "cell_type": "code",
   "execution_count": 80,
   "id": "3d7d4078",
   "metadata": {},
   "outputs": [
    {
     "data": {
      "text/plain": [
       "((31768, 65), (13615, 65))"
      ]
     },
     "execution_count": 80,
     "metadata": {},
     "output_type": "execute_result"
    }
   ],
   "source": [
    "X_train.shape,X_test.shape"
   ]
  },
  {
   "cell_type": "markdown",
   "id": "f11b67d8",
   "metadata": {},
   "source": [
    "#### Escalado sin tratar Y"
   ]
  },
  {
   "cell_type": "code",
   "execution_count": 82,
   "id": "efc46e04",
   "metadata": {},
   "outputs": [
    {
     "name": "stdout",
     "output_type": "stream",
     "text": [
      "El escalado utilizado---> RobustScaler()\n",
      "R2 segun el tipo de estrategia: 0.698833197648755\n",
      "RMSE segun el tipo de estrategia: 49972.637085123315\n",
      "----------------------------------------\n",
      "El escalado utilizado---> StandardScaler()\n",
      "R2 segun el tipo de estrategia: 0.6988584177183541\n",
      "RMSE segun el tipo de estrategia: 49970.54465700434\n",
      "----------------------------------------\n",
      "El escalado utilizado---> MinMaxScaler()\n",
      "R2 segun el tipo de estrategia: 0.698833197648755\n",
      "RMSE segun el tipo de estrategia: 49972.637085123315\n",
      "----------------------------------------\n"
     ]
    }
   ],
   "source": [
    "for x in [robust_sc,standard_sc,minmax_sc]:\n",
    "    scaler = x.fit(X_train)\n",
    "    X_train_new = x.transform(X_train)\n",
    "    X_test_new = x.transform(X_test)\n",
    "    \n",
    "    \n",
    "    tree = DecisionTreeRegressor(max_depth=10,random_state=42)\n",
    "    tree.fit(X_train_new,y_train)\n",
    "    \n",
    "    y_pred = tree.predict(X_test_new)\n",
    "    r2 = metrics.r2_score(y_test, y_pred)\n",
    "    RMSE=np.sqrt(mean_squared_error(y_test,y_pred))\n",
    "    resultado.append(r2)\n",
    "    print(\"El escalado utilizado--->\",x)\n",
    "    print(\"R2 segun el tipo de estrategia:\",r2)\n",
    "    print(\"RMSE segun el tipo de estrategia:\",RMSE)\n",
    "    print(\"----------------------------------------\")"
   ]
  },
  {
   "cell_type": "markdown",
   "id": "23690e74",
   "metadata": {},
   "source": [
    "#### Aplicacion de MinMaxScaler"
   ]
  },
  {
   "cell_type": "code",
   "execution_count": 83,
   "id": "5c984ac6",
   "metadata": {},
   "outputs": [],
   "source": [
    "minmax_sc = preprocessing.MinMaxScaler()\n",
    "X_train = minmax_sc.fit_transform(X_train)\n",
    "X_test = minmax_sc.transform(X_test)"
   ]
  },
  {
   "cell_type": "code",
   "execution_count": 84,
   "id": "486e8d44",
   "metadata": {},
   "outputs": [
    {
     "name": "stdout",
     "output_type": "stream",
     "text": [
      "R2 segun el tipo de estrategia: 0.7416190963023834\n",
      "RMSE segun el tipo de estrategia: 46286.98846497736\n"
     ]
    }
   ],
   "source": [
    "tree = DecisionTreeRegressor(max_depth= 16, random_state = 42)\n",
    "tree.fit(X_train, y_train)\n",
    "\n",
    "y_pred= tree.predict(X_test)\n",
    "r2 = metrics.r2_score(y_test, y_pred)\n",
    "RMSE=np.sqrt(mean_squared_error(y_test,y_pred))\n",
    "\n",
    "\n",
    "print(\"R2 segun el tipo de estrategia:\",r2)\n",
    "print(\"RMSE segun el tipo de estrategia:\",RMSE)"
   ]
  },
  {
   "cell_type": "markdown",
   "id": "664557cc",
   "metadata": {},
   "source": [
    "Se realizará una copia de X_train y X_test antes de ser sometido a PCA para poder ser utilizado en la parte C de este proyecto"
   ]
  },
  {
   "cell_type": "code",
   "execution_count": 85,
   "id": "c97fb9cc",
   "metadata": {},
   "outputs": [],
   "source": [
    "X_full_test =X_test.copy()\n",
    "X_full_train = X_train.copy()"
   ]
  },
  {
   "cell_type": "markdown",
   "id": "97801d2e",
   "metadata": {},
   "source": [
    "### PCA o STD"
   ]
  },
  {
   "cell_type": "code",
   "execution_count": 93,
   "id": "9b48e4cb",
   "metadata": {},
   "outputs": [
    {
     "name": "stdout",
     "output_type": "stream",
     "text": [
      "----------------------------------------\n",
      "modelo: 2\n",
      "R2 segun el tipo de estrategia: 0.35257853639916936\n",
      "RMSE segun el tipo de estrategia: 73269.33767529958\n",
      "----------------------------------------\n",
      "----------------------------------------\n",
      "modelo: 3\n",
      "R2 segun el tipo de estrategia: 0.46261945577516683\n",
      "RMSE segun el tipo de estrategia: 66752.83093437464\n",
      "----------------------------------------\n",
      "----------------------------------------\n",
      "modelo: 4\n",
      "R2 segun el tipo de estrategia: 0.4873308952684009\n",
      "RMSE segun el tipo de estrategia: 65199.954423279545\n",
      "----------------------------------------\n",
      "----------------------------------------\n",
      "modelo: 5\n",
      "R2 segun el tipo de estrategia: 0.5566998967437151\n",
      "RMSE segun el tipo de estrategia: 60628.613325193495\n",
      "----------------------------------------\n",
      "----------------------------------------\n",
      "modelo: 6\n",
      "R2 segun el tipo de estrategia: 0.5714160111057105\n",
      "RMSE segun el tipo de estrategia: 59613.78409996033\n",
      "----------------------------------------\n",
      "----------------------------------------\n",
      "modelo: 7\n",
      "R2 segun el tipo de estrategia: 0.5826246778702446\n",
      "RMSE segun el tipo de estrategia: 58829.08623237109\n",
      "----------------------------------------\n",
      "----------------------------------------\n",
      "modelo: 8\n",
      "R2 segun el tipo de estrategia: 0.5852329719791934\n",
      "RMSE segun el tipo de estrategia: 58644.97851116233\n",
      "----------------------------------------\n",
      "----------------------------------------\n",
      "modelo: 9\n",
      "R2 segun el tipo de estrategia: 0.5738569310630283\n",
      "RMSE segun el tipo de estrategia: 59443.782121364544\n",
      "----------------------------------------\n",
      "----------------------------------------\n",
      "modelo: 10\n",
      "R2 segun el tipo de estrategia: 0.557941272128903\n",
      "RMSE segun el tipo de estrategia: 60543.66451589745\n",
      "----------------------------------------\n",
      "----------------------------------------\n",
      "modelo: 11\n",
      "R2 segun el tipo de estrategia: 0.5753164484164012\n",
      "RMSE segun el tipo de estrategia: 59341.8989138092\n",
      "----------------------------------------\n",
      "----------------------------------------\n",
      "modelo: 12\n",
      "R2 segun el tipo de estrategia: 0.5775284818864962\n",
      "RMSE segun el tipo de estrategia: 59187.151169124685\n",
      "----------------------------------------\n",
      "----------------------------------------\n",
      "modelo: 13\n",
      "R2 segun el tipo de estrategia: 0.573931421612492\n",
      "RMSE segun el tipo de estrategia: 59438.58645606146\n",
      "----------------------------------------\n",
      "----------------------------------------\n",
      "modelo: 14\n",
      "R2 segun el tipo de estrategia: 0.5687128879784409\n",
      "RMSE segun el tipo de estrategia: 59801.483726899714\n",
      "----------------------------------------\n",
      "----------------------------------------\n",
      "modelo: 15\n",
      "R2 segun el tipo de estrategia: 0.5743696768911021\n",
      "RMSE segun el tipo de estrategia: 59408.00924663463\n",
      "----------------------------------------\n",
      "----------------------------------------\n",
      "modelo: 16\n",
      "R2 segun el tipo de estrategia: 0.5718068067090812\n",
      "RMSE segun el tipo de estrategia: 59586.599092549295\n",
      "----------------------------------------\n",
      "----------------------------------------\n",
      "modelo: 17\n",
      "R2 segun el tipo de estrategia: 0.5790874736016212\n",
      "RMSE segun el tipo de estrategia: 59077.844911922904\n",
      "----------------------------------------\n",
      "----------------------------------------\n",
      "modelo: 18\n",
      "R2 segun el tipo de estrategia: 0.5728807756176051\n",
      "RMSE segun el tipo de estrategia: 59511.82638155692\n",
      "----------------------------------------\n",
      "----------------------------------------\n",
      "modelo: 19\n",
      "R2 segun el tipo de estrategia: 0.5803912374181426\n",
      "RMSE segun el tipo de estrategia: 58986.278031862756\n",
      "----------------------------------------\n",
      "----------------------------------------\n",
      "modelo: 20\n",
      "R2 segun el tipo de estrategia: 0.5724296139143791\n",
      "RMSE segun el tipo de estrategia: 59543.24895511486\n",
      "----------------------------------------\n",
      "----------------------------------------\n",
      "modelo: 21\n",
      "R2 segun el tipo de estrategia: 0.5897184893411318\n",
      "RMSE segun el tipo de estrategia: 58327.007067861545\n",
      "----------------------------------------\n",
      "----------------------------------------\n",
      "modelo: 22\n",
      "R2 segun el tipo de estrategia: 0.6008386400399475\n",
      "RMSE segun el tipo de estrategia: 57531.13815834853\n",
      "----------------------------------------\n",
      "----------------------------------------\n",
      "modelo: 23\n",
      "R2 segun el tipo de estrategia: 0.5990350176801507\n",
      "RMSE segun el tipo de estrategia: 57660.96973269667\n",
      "----------------------------------------\n",
      "----------------------------------------\n",
      "modelo: 24\n",
      "R2 segun el tipo de estrategia: 0.6117384581721342\n",
      "RMSE segun el tipo de estrategia: 56740.20577979536\n",
      "----------------------------------------\n",
      "----------------------------------------\n",
      "modelo: 25\n",
      "R2 segun el tipo de estrategia: 0.5968148462558971\n",
      "RMSE segun el tipo de estrategia: 57820.38579361536\n",
      "----------------------------------------\n",
      "----------------------------------------\n",
      "modelo: 26\n",
      "R2 segun el tipo de estrategia: 0.5942801805841071\n",
      "RMSE segun el tipo de estrategia: 58001.84799892763\n",
      "----------------------------------------\n",
      "----------------------------------------\n",
      "modelo: 27\n",
      "R2 segun el tipo de estrategia: 0.6011213011427688\n",
      "RMSE segun el tipo de estrategia: 57510.76457449285\n",
      "----------------------------------------\n",
      "----------------------------------------\n",
      "modelo: 28\n",
      "R2 segun el tipo de estrategia: 0.6383794035873772\n",
      "RMSE segun el tipo de estrategia: 54758.97347667529\n",
      "----------------------------------------\n",
      "----------------------------------------\n",
      "modelo: 29\n",
      "R2 segun el tipo de estrategia: 0.605527762793457\n",
      "RMSE segun el tipo de estrategia: 57192.21815963967\n",
      "----------------------------------------\n",
      "----------------------------------------\n",
      "modelo: 30\n",
      "R2 segun el tipo de estrategia: 0.6024989687352962\n",
      "RMSE segun el tipo de estrategia: 57411.36186387588\n",
      "----------------------------------------\n",
      "----------------------------------------\n",
      "modelo: 31\n",
      "R2 segun el tipo de estrategia: 0.6070938542960841\n",
      "RMSE segun el tipo de estrategia: 57078.57603999713\n",
      "----------------------------------------\n",
      "----------------------------------------\n",
      "modelo: 32\n",
      "R2 segun el tipo de estrategia: 0.6141662485069167\n",
      "RMSE segun el tipo de estrategia: 56562.530004182874\n",
      "----------------------------------------\n",
      "----------------------------------------\n",
      "modelo: 33\n",
      "R2 segun el tipo de estrategia: 0.6361378873479075\n",
      "RMSE segun el tipo de estrategia: 54928.423875790235\n",
      "----------------------------------------\n",
      "----------------------------------------\n",
      "modelo: 34\n",
      "R2 segun el tipo de estrategia: 0.6154921404858809\n",
      "RMSE segun el tipo de estrategia: 56465.25968371996\n",
      "----------------------------------------\n",
      "----------------------------------------\n",
      "modelo: 35\n",
      "R2 segun el tipo de estrategia: 0.632091098753847\n",
      "RMSE segun el tipo de estrategia: 55233.0297662196\n",
      "----------------------------------------\n",
      "----------------------------------------\n",
      "modelo: 36\n",
      "R2 segun el tipo de estrategia: 0.6329116214974314\n",
      "RMSE segun el tipo de estrategia: 55171.40411146566\n",
      "----------------------------------------\n",
      "----------------------------------------\n",
      "modelo: 37\n",
      "R2 segun el tipo de estrategia: 0.6435880081320846\n",
      "RMSE segun el tipo de estrategia: 54363.18250279687\n",
      "----------------------------------------\n",
      "----------------------------------------\n",
      "modelo: 38\n",
      "R2 segun el tipo de estrategia: 0.6474631904354998\n",
      "RMSE segun el tipo de estrategia: 54066.83583712125\n",
      "----------------------------------------\n",
      "----------------------------------------\n",
      "modelo: 39\n",
      "R2 segun el tipo de estrategia: 0.6632172066479181\n",
      "RMSE segun el tipo de estrategia: 52844.97131269603\n",
      "----------------------------------------\n",
      "----------------------------------------\n",
      "modelo: 40\n",
      "R2 segun el tipo de estrategia: 0.6575548756467532\n",
      "RMSE segun el tipo de estrategia: 53287.360988621425\n",
      "----------------------------------------\n",
      "----------------------------------------\n",
      "modelo: 41\n",
      "R2 segun el tipo de estrategia: 0.6559289966521782\n",
      "RMSE segun el tipo de estrategia: 53413.71146216288\n",
      "----------------------------------------\n",
      "----------------------------------------\n",
      "modelo: 42\n",
      "R2 segun el tipo de estrategia: 0.6571042937001605\n",
      "RMSE segun el tipo de estrategia: 53322.40664741605\n",
      "----------------------------------------\n",
      "----------------------------------------\n",
      "modelo: 43\n",
      "R2 segun el tipo de estrategia: 0.6504527393297079\n",
      "RMSE segun el tipo de estrategia: 53837.10155554901\n",
      "----------------------------------------\n"
     ]
    },
    {
     "name": "stdout",
     "output_type": "stream",
     "text": [
      "----------------------------------------\n",
      "modelo: 44\n",
      "R2 segun el tipo de estrategia: 0.6553528906708121\n",
      "RMSE segun el tipo de estrategia: 53458.41021349209\n",
      "----------------------------------------\n"
     ]
    }
   ],
   "source": [
    "pca_p=PCA\n",
    "\n",
    "\"\"\"\"for i in range(2,65):\n",
    "    pca_p=PCA(n_components=i,random_state=42)\n",
    "    X_train_new=pca_p.fit_transform(X_train)\n",
    "    X_test_new=pca_p.transform(X_test)\n",
    "    \n",
    "    tree = DecisionTreeRegressor(max_depth=10,random_state=42)\n",
    "    tree.fit(X_train_new,y_train)\n",
    "    \n",
    "    y_pred = tree.predict(X_test_new)\n",
    "    r2 = metrics.r2_score(y_test, y_pred)\n",
    "    RMSE=np.sqrt(mean_squared_error(y_test,y_pred))\n",
    "    print(\"----------------------------------------\")\n",
    "    print(\"modelo:\",i)\n",
    "    print(\"R2 segun el tipo de estrategia:\",r2)\n",
    "    print(\"RMSE segun el tipo de estrategia:\",RMSE)\n",
    "    print(\"----------------------------------------\")\"\"\""
   ]
  },
  {
   "cell_type": "code",
   "execution_count": 94,
   "id": "54161402",
   "metadata": {},
   "outputs": [
    {
     "name": "stdout",
     "output_type": "stream",
     "text": [
      "----------------------------------------\n",
      "modelo: 2\n",
      "R2 segun el tipo de estrategia: 0.353878038953894\n",
      "RMSE segun el tipo de estrategia: 73195.76773437076\n",
      "----------------------------------------\n",
      "----------------------------------------\n",
      "modelo: 3\n",
      "R2 segun el tipo de estrategia: 0.45877492600366776\n",
      "RMSE segun el tipo de estrategia: 66991.18705052555\n",
      "----------------------------------------\n",
      "----------------------------------------\n",
      "modelo: 4\n",
      "R2 segun el tipo de estrategia: 0.49194757190784244\n",
      "RMSE segun el tipo de estrategia: 64905.721917518524\n",
      "----------------------------------------\n",
      "----------------------------------------\n",
      "modelo: 5\n",
      "R2 segun el tipo de estrategia: 0.5804801637180228\n",
      "RMSE segun el tipo de estrategia: 58980.02731708026\n",
      "----------------------------------------\n",
      "----------------------------------------\n",
      "modelo: 6\n",
      "R2 segun el tipo de estrategia: 0.5827688786779605\n",
      "RMSE segun el tipo de estrategia: 58818.92279654583\n",
      "----------------------------------------\n",
      "----------------------------------------\n",
      "modelo: 7\n",
      "R2 segun el tipo de estrategia: 0.5936501933213827\n",
      "RMSE segun el tipo de estrategia: 58046.86213188414\n",
      "----------------------------------------\n",
      "----------------------------------------\n",
      "modelo: 8\n",
      "R2 segun el tipo de estrategia: 0.5873481404561938\n",
      "RMSE segun el tipo de estrategia: 58495.252820091075\n",
      "----------------------------------------\n",
      "----------------------------------------\n",
      "modelo: 9\n",
      "R2 segun el tipo de estrategia: 0.5776094374861407\n",
      "RMSE segun el tipo de estrategia: 59181.480063886156\n",
      "----------------------------------------\n",
      "----------------------------------------\n",
      "modelo: 10\n",
      "R2 segun el tipo de estrategia: 0.566115865718124\n",
      "RMSE segun el tipo de estrategia: 59981.262678690975\n",
      "----------------------------------------\n",
      "----------------------------------------\n",
      "modelo: 11\n",
      "R2 segun el tipo de estrategia: 0.5818196517052595\n",
      "RMSE segun el tipo de estrategia: 58885.79315403992\n",
      "----------------------------------------\n",
      "----------------------------------------\n",
      "modelo: 12\n",
      "R2 segun el tipo de estrategia: 0.5736096895305871\n",
      "RMSE segun el tipo de estrategia: 59461.02379644614\n",
      "----------------------------------------\n",
      "----------------------------------------\n",
      "modelo: 13\n",
      "R2 segun el tipo de estrategia: 0.5804190160573037\n",
      "RMSE segun el tipo de estrategia: 58984.32551585429\n",
      "----------------------------------------\n",
      "----------------------------------------\n",
      "modelo: 14\n",
      "R2 segun el tipo de estrategia: 0.5876372132503842\n",
      "RMSE segun el tipo de estrategia: 58474.76054774752\n",
      "----------------------------------------\n",
      "----------------------------------------\n",
      "modelo: 15\n",
      "R2 segun el tipo de estrategia: 0.5828253407895745\n",
      "RMSE segun el tipo de estrategia: 58814.94280466914\n",
      "----------------------------------------\n",
      "----------------------------------------\n",
      "modelo: 16\n",
      "R2 segun el tipo de estrategia: 0.587290161372369\n",
      "RMSE segun el tipo de estrategia: 58499.36207340835\n",
      "----------------------------------------\n",
      "----------------------------------------\n",
      "modelo: 17\n",
      "R2 segun el tipo de estrategia: 0.578269836649387\n",
      "RMSE segun el tipo de estrategia: 59135.19743843771\n",
      "----------------------------------------\n",
      "----------------------------------------\n",
      "modelo: 18\n",
      "R2 segun el tipo de estrategia: 0.5878072116595252\n",
      "RMSE segun el tipo de estrategia: 58462.70606403242\n",
      "----------------------------------------\n",
      "----------------------------------------\n",
      "modelo: 19\n",
      "R2 segun el tipo de estrategia: 0.5857817542042701\n",
      "RMSE segun el tipo de estrategia: 58606.16880331952\n",
      "----------------------------------------\n",
      "----------------------------------------\n",
      "modelo: 20\n",
      "R2 segun el tipo de estrategia: 0.5907738058346508\n",
      "RMSE segun el tipo de estrategia: 58251.94508779315\n",
      "----------------------------------------\n",
      "----------------------------------------\n",
      "modelo: 21\n",
      "R2 segun el tipo de estrategia: 0.6015474153836531\n",
      "RMSE segun el tipo de estrategia: 57480.037558712866\n",
      "----------------------------------------\n",
      "----------------------------------------\n",
      "modelo: 22\n",
      "R2 segun el tipo de estrategia: 0.6115719760993057\n",
      "RMSE segun el tipo de estrategia: 56752.369249083604\n",
      "----------------------------------------\n",
      "----------------------------------------\n",
      "modelo: 23\n",
      "R2 segun el tipo de estrategia: 0.6078212324001597\n",
      "RMSE segun el tipo de estrategia: 57025.71743765917\n",
      "----------------------------------------\n",
      "----------------------------------------\n",
      "modelo: 24\n",
      "R2 segun el tipo de estrategia: 0.6146320145114714\n",
      "RMSE segun el tipo de estrategia: 56528.37946786168\n",
      "----------------------------------------\n",
      "----------------------------------------\n",
      "modelo: 25\n",
      "R2 segun el tipo de estrategia: 0.632217223018066\n",
      "RMSE segun el tipo de estrategia: 55223.56163110759\n",
      "----------------------------------------\n",
      "----------------------------------------\n",
      "modelo: 26\n",
      "R2 segun el tipo de estrategia: 0.6133931831854258\n",
      "RMSE segun el tipo de estrategia: 56619.16663760219\n",
      "----------------------------------------\n",
      "----------------------------------------\n",
      "modelo: 27\n",
      "R2 segun el tipo de estrategia: 0.6308377959569778\n",
      "RMSE segun el tipo de estrategia: 55327.027026161115\n",
      "----------------------------------------\n",
      "----------------------------------------\n",
      "modelo: 28\n",
      "R2 segun el tipo de estrategia: 0.6322306294517271\n",
      "RMSE segun el tipo de estrategia: 55222.55511610903\n",
      "----------------------------------------\n",
      "----------------------------------------\n",
      "modelo: 29\n",
      "R2 segun el tipo de estrategia: 0.6256330263143929\n",
      "RMSE segun el tipo de estrategia: 55715.68616707353\n",
      "----------------------------------------\n",
      "----------------------------------------\n",
      "modelo: 30\n",
      "R2 segun el tipo de estrategia: 0.6289376590937008\n",
      "RMSE segun el tipo de estrategia: 55469.23279726954\n",
      "----------------------------------------\n",
      "----------------------------------------\n",
      "modelo: 31\n",
      "R2 segun el tipo de estrategia: 0.6307443351316783\n",
      "RMSE segun el tipo de estrategia: 55334.03015691519\n",
      "----------------------------------------\n",
      "----------------------------------------\n",
      "modelo: 32\n",
      "R2 segun el tipo de estrategia: 0.6188886333670989\n",
      "RMSE segun el tipo de estrategia: 56215.31777450512\n",
      "----------------------------------------\n",
      "----------------------------------------\n",
      "modelo: 33\n",
      "R2 segun el tipo de estrategia: 0.6341052033282808\n",
      "RMSE segun el tipo de estrategia: 55081.636625721316\n",
      "----------------------------------------\n",
      "----------------------------------------\n",
      "modelo: 34\n",
      "R2 segun el tipo de estrategia: 0.626184859325895\n",
      "RMSE segun el tipo de estrategia: 55674.60736532719\n",
      "----------------------------------------\n",
      "----------------------------------------\n",
      "modelo: 35\n",
      "R2 segun el tipo de estrategia: 0.632091098753847\n",
      "RMSE segun el tipo de estrategia: 55233.0297662196\n",
      "----------------------------------------\n",
      "----------------------------------------\n",
      "modelo: 36\n",
      "R2 segun el tipo de estrategia: 0.6329116214974314\n",
      "RMSE segun el tipo de estrategia: 55171.40411146566\n",
      "----------------------------------------\n",
      "----------------------------------------\n",
      "modelo: 37\n",
      "R2 segun el tipo de estrategia: 0.6435880081320846\n",
      "RMSE segun el tipo de estrategia: 54363.18250279687\n",
      "----------------------------------------\n",
      "----------------------------------------\n",
      "modelo: 38\n",
      "R2 segun el tipo de estrategia: 0.6474631904354998\n",
      "RMSE segun el tipo de estrategia: 54066.83583712125\n",
      "----------------------------------------\n",
      "----------------------------------------\n",
      "modelo: 39\n",
      "R2 segun el tipo de estrategia: 0.6632172066479181\n",
      "RMSE segun el tipo de estrategia: 52844.97131269603\n",
      "----------------------------------------\n",
      "----------------------------------------\n",
      "modelo: 40\n",
      "R2 segun el tipo de estrategia: 0.6575548756467532\n",
      "RMSE segun el tipo de estrategia: 53287.360988621425\n",
      "----------------------------------------\n",
      "----------------------------------------\n",
      "modelo: 41\n",
      "R2 segun el tipo de estrategia: 0.6559289966521782\n",
      "RMSE segun el tipo de estrategia: 53413.71146216288\n",
      "----------------------------------------\n",
      "----------------------------------------\n",
      "modelo: 42\n",
      "R2 segun el tipo de estrategia: 0.6571042937001605\n",
      "RMSE segun el tipo de estrategia: 53322.40664741605\n",
      "----------------------------------------\n",
      "----------------------------------------\n",
      "modelo: 43\n",
      "R2 segun el tipo de estrategia: 0.6504527393297079\n",
      "RMSE segun el tipo de estrategia: 53837.10155554901\n",
      "----------------------------------------\n"
     ]
    },
    {
     "name": "stdout",
     "output_type": "stream",
     "text": [
      "----------------------------------------\n",
      "modelo: 44\n",
      "R2 segun el tipo de estrategia: 0.6553528906708121\n",
      "RMSE segun el tipo de estrategia: 53458.41021349209\n",
      "----------------------------------------\n"
     ]
    }
   ],
   "source": [
    "svd=TruncatedSVD\n",
    "\n",
    "\"\"\"\"for i in range(2,65):\n",
    "    svd=TruncatedSVD(n_components=i,random_state=42)\n",
    "    X_train_new=svd.fit_transform(X_train)\n",
    "    X_test_new=svd.transform(X_test)\n",
    "    \n",
    "    tree = DecisionTreeRegressor(max_depth=10,random_state=42)\n",
    "    tree.fit(X_train_new,y_train)\n",
    "    \n",
    "    y_pred = tree.predict(X_test_new)\n",
    "    r2 = metrics.r2_score(y_test, y_pred)\n",
    "    RMSE=np.sqrt(mean_squared_error(y_test,y_pred))\n",
    "    print(\"----------------------------------------\")\n",
    "    print(\"modelo:\",i)\n",
    "    print(\"R2 segun el tipo de estrategia:\",r2)\n",
    "    print(\"RMSE segun el tipo de estrategia:\",RMSE)\n",
    "    print(\"----------------------------------------\")\"\"\""
   ]
  },
  {
   "cell_type": "markdown",
   "id": "ca7442c2",
   "metadata": {},
   "source": [
    "#### Aplicacion del PCA con 45"
   ]
  },
  {
   "cell_type": "code",
   "execution_count": 95,
   "id": "5c6aba49",
   "metadata": {},
   "outputs": [
    {
     "name": "stdout",
     "output_type": "stream",
     "text": [
      "----------------------------------------\n",
      "R2 segun el tipo de estrategia: 0.6616366869905494\n",
      "RMSE segun el tipo de estrategia: 52968.82673850531\n",
      "----------------------------------------\n"
     ]
    }
   ],
   "source": [
    "pca_p=PCA(n_components=45,random_state=42)\n",
    "X_train=pca_p.fit_transform(X_train)\n",
    "X_test=pca_p.transform(X_test)\n",
    "\n",
    "\n",
    "tree = DecisionTreeRegressor(max_depth=10,random_state=42)\n",
    "tree.fit(X_train,y_train)\n",
    "    \n",
    "y_pred = tree.predict(X_test)\n",
    "r2 = metrics.r2_score(y_test, y_pred)\n",
    "RMSE=np.sqrt(mean_squared_error(y_test,y_pred))\n",
    "print(\"----------------------------------------\")\n",
    "print(\"R2 segun el tipo de estrategia:\",r2)\n",
    "print(\"RMSE segun el tipo de estrategia:\",RMSE)\n",
    "print(\"----------------------------------------\")"
   ]
  },
  {
   "cell_type": "code",
   "execution_count": 96,
   "id": "72692842",
   "metadata": {},
   "outputs": [
    {
     "data": {
      "text/plain": [
       "((31768, 45), (13615, 45))"
      ]
     },
     "execution_count": 96,
     "metadata": {},
     "output_type": "execute_result"
    }
   ],
   "source": [
    "X_train.shape,X_test.shape"
   ]
  },
  {
   "cell_type": "markdown",
   "id": "663eca8e",
   "metadata": {},
   "source": [
    "#### Plot CEV para PCA "
   ]
  },
  {
   "cell_type": "code",
   "execution_count": 97,
   "id": "d274346e",
   "metadata": {},
   "outputs": [],
   "source": [
    "pca = PCA(45).fit(X_test)\n",
    "plt.plot(np.cumsum(pca.explained_variance_ratio_))\n",
    "plt.title(\"Plot CEV para PCA\")\n",
    "plt.xlabel('Numero de componentes')\n",
    "plt.ylabel('cumulative explained variance');"
   ]
  },
  {
   "cell_type": "code",
   "execution_count": 98,
   "id": "929b6936",
   "metadata": {},
   "outputs": [],
   "source": [
    "svd = TruncatedSVD(43).fit(X_test)\n",
    "plt.plot(np.cumsum(pca.explained_variance_ratio_))\n",
    "plt.title(\"Plot CEV para SVD\")\n",
    "plt.xlabel('Numero de componentes')\n",
    "plt.ylabel('cumulative explained variance');"
   ]
  },
  {
   "cell_type": "markdown",
   "id": "b3dca861",
   "metadata": {},
   "source": [
    "#### Reentreno del mejor modelo proyecto 1"
   ]
  },
  {
   "cell_type": "markdown",
   "id": "b174b4d6",
   "metadata": {},
   "source": [
    "Modelo de arbol de decision con optimizacion"
   ]
  },
  {
   "cell_type": "markdown",
   "id": "bbd18d69",
   "metadata": {},
   "source": [
    "Modelo: Árbol de Decisión\n",
    "* R2 en Train: 0.9585691710990953\n",
    "* R2 ajustado en train: 0.9585662487016275\n",
    "--------------------------\n",
    "* R2 en test: 0.7540545664790679\n",
    "* R2 ajustado en Test: 0.7540140833000183\n",
    "--------------------------\n",
    "RMSE en train: 60555.3747024378\n",
    "RMSE en test: 149916.0084953472"
   ]
  },
  {
   "cell_type": "code",
   "execution_count": 104,
   "id": "7d8c9a56",
   "metadata": {},
   "outputs": [
    {
     "name": "stderr",
     "output_type": "stream",
     "text": [
      "<ipython-input-104-814742c871a8>:43: UserWarning: Matplotlib is currently using agg, which is a non-GUI backend, so cannot show the figure.\n",
      "  plt.show()\n"
     ]
    }
   ],
   "source": [
    "MAX_DEPTH_range = range(1, 21)\n",
    "scores = []\n",
    "arbol_r2_train_pred=[]\n",
    "arbol_r2_test_pred=[]\n",
    "\n",
    "for k in MAX_DEPTH_range:\n",
    "    new_arbol_regressor = DecisionTreeRegressor(max_depth=k,random_state=42)\n",
    "    new_arbol_regressor.fit(X_train, y_train)\n",
    "    scores.append(new_arbol_regressor.score(X_test, y_test))\n",
    "    \n",
    "    y_train_pred = new_arbol_regressor.predict(X_train)\n",
    "    arbol_r2_train = metrics.r2_score(y_train, y_train_pred)\n",
    "    arbol_r2_train_pred.append(arbol_r2_train)\n",
    "    \n",
    "    y_test_pred = new_arbol_regressor.predict(X_test)\n",
    "    arbol_r2_test = metrics.r2_score(y_test, y_test_pred)\n",
    "    arbol_r2_test_pred.append(arbol_r2_test)\n",
    "    \n",
    "fig = plt.figure(figsize=(15,4))\n",
    "\n",
    "ax1 = fig.add_subplot(121)\n",
    "ax2 = fig.add_subplot(122)\n",
    "\n",
    "\n",
    "ax1.scatter(MAX_DEPTH_range,scores,marker=\"o\")\n",
    "ax2.scatter(MAX_DEPTH_range,arbol_r2_train_pred,marker=\"o\",label=\"train\")\n",
    "ax2.scatter(MAX_DEPTH_range,arbol_r2_test_pred,marker=\"o\",label=\"test\")\n",
    "\n",
    "ax1.set_xticks(MAX_DEPTH_range)\n",
    "ax2.set_xticks(MAX_DEPTH_range)\n",
    "\n",
    "ax2.legend()\n",
    "\n",
    "\n",
    "ax1.set_title('exactitud')\n",
    "ax1.set_xlabel('max depth')\n",
    "ax1.set_ylabel('exactitud')\n",
    "\n",
    "ax2.set_title('r2')\n",
    "ax2.set_xlabel('max depth')\n",
    "ax2.set_ylabel('r2')\n",
    "\n",
    "plt.show()"
   ]
  },
  {
   "cell_type": "markdown",
   "id": "17426b11",
   "metadata": {},
   "source": [
    "### Parametros optimizados del proyecto 1 "
   ]
  },
  {
   "cell_type": "code",
   "execution_count": 105,
   "id": "29de730e",
   "metadata": {},
   "outputs": [
    {
     "data": {
      "text/plain": [
       "DecisionTreeRegressor(max_depth=19, random_state=42)"
      ]
     },
     "execution_count": 105,
     "metadata": {},
     "output_type": "execute_result"
    }
   ],
   "source": [
    "arbol_proyecto1 = DecisionTreeRegressor(max_depth= 19,random_state=42)\n",
    "arbol_proyecto1.fit(X_train,y_train)"
   ]
  },
  {
   "cell_type": "markdown",
   "id": "2e6b562f",
   "metadata": {},
   "source": [
    "### Parametros optimizados del proyecto 2 "
   ]
  },
  {
   "cell_type": "code",
   "execution_count": 109,
   "id": "393a261a",
   "metadata": {},
   "outputs": [
    {
     "data": {
      "text/plain": [
       "DecisionTreeRegressor(max_depth=10, random_state=42)"
      ]
     },
     "execution_count": 109,
     "metadata": {},
     "output_type": "execute_result"
    }
   ],
   "source": [
    "arbol_proyecto2 = DecisionTreeRegressor(max_depth= 10,random_state=42)\n",
    "arbol_proyecto2.fit(X_train,y_train)"
   ]
  },
  {
   "cell_type": "code",
   "execution_count": 110,
   "id": "d7d1886d",
   "metadata": {},
   "outputs": [
    {
     "name": "stdout",
     "output_type": "stream",
     "text": [
      "Modelo: Arbol Proyecto 1\n",
      "R2 en Train: 0.9706969669718024\n",
      "R2 ajustado en train: 0.9706553984551178\n",
      "--------------------------\n",
      "R2 en test: 0.669790686232095\n",
      "R2 ajustado en Test: 0.6686955857000325\n",
      "--------------------------\n",
      "RMSE en train: 15327.072697158026\n",
      "RMSE en test: 52326.70382483324\n"
     ]
    },
    {
     "name": "stderr",
     "output_type": "stream",
     "text": [
      "<ipython-input-110-ccef25072357>:43: UserWarning: Matplotlib is currently using agg, which is a non-GUI backend, so cannot show the figure.\n",
      "  plt.show()\n",
      "<ipython-input-110-ccef25072357>:43: UserWarning: Matplotlib is currently using agg, which is a non-GUI backend, so cannot show the figure.\n",
      "  plt.show()\n"
     ]
    },
    {
     "name": "stdout",
     "output_type": "stream",
     "text": [
      "Modelo: Arbol Proyecto 2\n",
      "R2 en Train: 0.7668907496286869\n",
      "R2 ajustado en train: 0.7665600669394899\n",
      "--------------------------\n",
      "R2 en test: 0.6616366869905494\n",
      "R2 ajustado en Test: 0.6605145446745773\n",
      "--------------------------\n",
      "RMSE en train: 43229.74600739396\n",
      "RMSE en test: 52968.82673850531\n"
     ]
    }
   ],
   "source": [
    "models = [\"Arbol Proyecto 1\",\"Arbol Proyecto 2\"]\n",
    "\n",
    "for i, model in enumerate([arbol_proyecto1, arbol_proyecto2]):\n",
    "    y_train_pred = model.predict(X_train)\n",
    "    y_test_pred = model.predict(X_test)\n",
    "   \n",
    "\n",
    "    print(f'Modelo: {models[i]}')\n",
    "    \n",
    "    r2_train= metrics.r2_score(y_train, y_train_pred)\n",
    "    r2_test= metrics.r2_score(y_test, y_test_pred)\n",
    "    \n",
    "    adj_r2_train = 1 - ((1 - r2_train) * (len(y_train) - 1)) / (len(y_train) - X_train.shape[1] - 1)\n",
    "    adj_r2_test = 1 - ((1 - r2_test) * (len(y_test) - 1)) / (len(y_test) - X_test.shape[1] - 1)\n",
    "\n",
    "    RMSE_train=np.sqrt(mean_squared_error(y_train,y_train_pred))\n",
    "    RMSE_test=np.sqrt(mean_squared_error(y_test,y_test_pred))\n",
    "\n",
    "    print(\"R2 en Train:\", r2_train)\n",
    "    print(\"R2 ajustado en train:\", adj_r2_train)\n",
    "    print(\"--------------------------\")\n",
    "    print(\"R2 en test:\", r2_test)\n",
    "    print(\"R2 ajustado en Test:\", adj_r2_test)\n",
    "    print(\"--------------------------\")\n",
    "    print(\"RMSE en train:\",RMSE_train)\n",
    "    print(\"RMSE en test:\",RMSE_test)\n",
    "\n",
    "    plt.figure(figsize = (14,4))\n",
    "   \n",
    "    ax = plt.subplot(1,2,2)\n",
    "    ax.scatter(y_test,y_test_pred, s =2)\n",
    "    \n",
    "    lims = [\n",
    "    np.min([ax.get_xlim(), ax.get_ylim()]),  # min of both axes\n",
    "    np.max([ax.get_xlim(), ax.get_ylim()]),  # max of both axes]\n",
    "    ]\n",
    "    \n",
    "    ax.plot(lims, lims, 'k-', alpha=0.75, zorder=0)\n",
    "    plt.xlabel('y (test)')\n",
    "    plt.ylabel('y_pred (test)')\n",
    "    \n",
    "    plt.tight_layout()\n",
    "    plt.show()"
   ]
  },
  {
   "cell_type": "markdown",
   "id": "dda56683",
   "metadata": {},
   "source": [
    "Aunque vemos diferencia y un rendimiento menor en el train, en el test vemos un mejor resultado, lo que nos permite establacer un nuevo benchmark del proyecto 2 "
   ]
  },
  {
   "cell_type": "markdown",
   "id": "17609ca6",
   "metadata": {},
   "source": [
    "## Parte B"
   ]
  },
  {
   "cell_type": "markdown",
   "id": "f0ec0a6f",
   "metadata": {},
   "source": [
    "#### modelos a utilizar"
   ]
  },
  {
   "cell_type": "markdown",
   "id": "537c8d3a",
   "metadata": {},
   "source": [
    "+ Random Forest\n",
    "+ BaggingReggresor\n",
    "+ AdaboostRegressor\n",
    "+ Stacking"
   ]
  },
  {
   "cell_type": "code",
   "execution_count": 111,
   "id": "17fbca14",
   "metadata": {},
   "outputs": [
    {
     "data": {
      "text/plain": [
       "(<function ndarray.min>, <function ndarray.max>)"
      ]
     },
     "execution_count": 111,
     "metadata": {},
     "output_type": "execute_result"
    }
   ],
   "source": [
    "y_train.min,y_train.max"
   ]
  },
  {
   "cell_type": "code",
   "execution_count": 112,
   "id": "f8a5511b",
   "metadata": {},
   "outputs": [
    {
     "data": {
      "text/plain": [
       "(<function ndarray.min>, <function ndarray.max>)"
      ]
     },
     "execution_count": 112,
     "metadata": {},
     "output_type": "execute_result"
    }
   ],
   "source": [
    "y_test.min,y_test.max"
   ]
  },
  {
   "cell_type": "markdown",
   "id": "15abc465",
   "metadata": {},
   "source": [
    "### Random Forest Default"
   ]
  },
  {
   "cell_type": "code",
   "execution_count": 114,
   "id": "f49b8d49",
   "metadata": {},
   "outputs": [
    {
     "data": {
      "text/plain": [
       "RandomForestRegressor(random_state=42)"
      ]
     },
     "execution_count": 114,
     "metadata": {},
     "output_type": "execute_result"
    }
   ],
   "source": [
    "forest_def = RandomForestRegressor(random_state=42)\n",
    "\n",
    "forest_def.fit(X_train,y_train)"
   ]
  },
  {
   "cell_type": "code",
   "execution_count": 115,
   "id": "9775ee0d",
   "metadata": {},
   "outputs": [
    {
     "name": "stdout",
     "output_type": "stream",
     "text": [
      "RMSE en Train es: 15605.317706272419\n",
      "RMSE en Test es: 39123.77088181541\n"
     ]
    }
   ],
   "source": [
    "y_train_pred_RFD = forest_def.predict(X_train)\n",
    "y_test_pred_RFD = forest_def.predict(X_test)\n",
    "\n",
    "rmse_train_RFD = np.sqrt(mean_squared_error(y_train, y_train_pred_RFD))\n",
    "rmse_test_RFD = np.sqrt(mean_squared_error(y_test, y_test_pred_RFD))\n",
    "\n",
    "print(\"RMSE en Train es:\",rmse_train_RFD)\n",
    "print(\"RMSE en Test es:\",rmse_test_RFD)"
   ]
  },
  {
   "cell_type": "markdown",
   "id": "73619444",
   "metadata": {},
   "source": [
    "#### Random forest con gridsearch"
   ]
  },
  {
   "cell_type": "code",
   "execution_count": 116,
   "id": "dc46878c",
   "metadata": {},
   "outputs": [],
   "source": [
    "forest = RandomForestRegressor(random_state=42)\n",
    "params_forest = {\n",
    "    \"n_estimators\":[500],\n",
    "    \"criterion\":[\"mse\"],\n",
    "    \"max_depth\":[None],\n",
    "    \"max_features\":[\"sqrt\"],\n",
    "    \"bootstrap\":[False]\n",
    "}"
   ]
  },
  {
   "cell_type": "code",
   "execution_count": 117,
   "id": "39a16c60",
   "metadata": {},
   "outputs": [
    {
     "data": {
      "text/plain": [
       "GridSearchCV(cv=2, estimator=RandomForestRegressor(random_state=42), n_jobs=-1,\n",
       "             param_grid={'bootstrap': [False], 'criterion': ['mse'],\n",
       "                         'max_depth': [None], 'max_features': ['sqrt'],\n",
       "                         'n_estimators': [500]})"
      ]
     },
     "execution_count": 117,
     "metadata": {},
     "output_type": "execute_result"
    }
   ],
   "source": [
    "model_RF = GridSearchCV(forest,param_grid=params_forest, cv=2,n_jobs=-1)\n",
    "model_RF.fit(X_train,y_train)"
   ]
  },
  {
   "cell_type": "markdown",
   "id": "6a7c02b6",
   "metadata": {},
   "source": [
    "#### Bagging Regressor"
   ]
  },
  {
   "cell_type": "code",
   "execution_count": 118,
   "id": "3dc25992",
   "metadata": {},
   "outputs": [],
   "source": [
    "bagging = BaggingRegressor(random_state=42)\n",
    "params_bagging={\n",
    "    \"n_estimators\":[10],\n",
    "    \"bootstrap\":[True],\n",
    "    \"warm_start\":[True],   \n",
    "}"
   ]
  },
  {
   "cell_type": "code",
   "execution_count": 120,
   "id": "0af60107",
   "metadata": {},
   "outputs": [
    {
     "data": {
      "text/plain": [
       "GridSearchCV(cv=2, estimator=BaggingRegressor(random_state=42), n_jobs=-1,\n",
       "             param_grid={'bootstrap': [True], 'n_estimators': [10],\n",
       "                         'warm_start': [True]})"
      ]
     },
     "execution_count": 120,
     "metadata": {},
     "output_type": "execute_result"
    }
   ],
   "source": [
    "model_bagging = GridSearchCV(bagging,param_grid=params_bagging, cv=2,n_jobs=-1)\n",
    "model_bagging.fit(X_train,y_train)"
   ]
  },
  {
   "cell_type": "code",
   "execution_count": 121,
   "id": "e107df8c",
   "metadata": {},
   "outputs": [
    {
     "name": "stdout",
     "output_type": "stream",
     "text": [
      "Mejores parametros: {'bootstrap': True, 'n_estimators': 10, 'warm_start': True}\n",
      "Mejor Score: 0.7439899583896032\n",
      "\n"
     ]
    },
    {
     "data": {
      "text/html": [
       "<div>\n",
       "<style scoped>\n",
       "    .dataframe tbody tr th:only-of-type {\n",
       "        vertical-align: middle;\n",
       "    }\n",
       "\n",
       "    .dataframe tbody tr th {\n",
       "        vertical-align: top;\n",
       "    }\n",
       "\n",
       "    .dataframe thead th {\n",
       "        text-align: right;\n",
       "    }\n",
       "</style>\n",
       "<table border=\"1\" class=\"dataframe\">\n",
       "  <thead>\n",
       "    <tr style=\"text-align: right;\">\n",
       "      <th></th>\n",
       "      <th>mean_fit_time</th>\n",
       "      <th>std_fit_time</th>\n",
       "      <th>mean_score_time</th>\n",
       "      <th>std_score_time</th>\n",
       "      <th>param_bootstrap</th>\n",
       "      <th>param_n_estimators</th>\n",
       "      <th>param_warm_start</th>\n",
       "      <th>params</th>\n",
       "      <th>split0_test_score</th>\n",
       "      <th>split1_test_score</th>\n",
       "      <th>mean_test_score</th>\n",
       "      <th>std_test_score</th>\n",
       "      <th>rank_test_score</th>\n",
       "    </tr>\n",
       "  </thead>\n",
       "  <tbody>\n",
       "    <tr>\n",
       "      <th>0</th>\n",
       "      <td>7.916203</td>\n",
       "      <td>0.074497</td>\n",
       "      <td>0.17483</td>\n",
       "      <td>0.016201</td>\n",
       "      <td>True</td>\n",
       "      <td>10</td>\n",
       "      <td>True</td>\n",
       "      <td>{'bootstrap': True, 'n_estimators': 10, 'warm_...</td>\n",
       "      <td>0.741728</td>\n",
       "      <td>0.746251</td>\n",
       "      <td>0.74399</td>\n",
       "      <td>0.002262</td>\n",
       "      <td>1</td>\n",
       "    </tr>\n",
       "  </tbody>\n",
       "</table>\n",
       "</div>"
      ],
      "text/plain": [
       "   mean_fit_time  std_fit_time  mean_score_time  std_score_time  \\\n",
       "0       7.916203      0.074497          0.17483        0.016201   \n",
       "\n",
       "  param_bootstrap param_n_estimators param_warm_start  \\\n",
       "0            True                 10             True   \n",
       "\n",
       "                                              params  split0_test_score  \\\n",
       "0  {'bootstrap': True, 'n_estimators': 10, 'warm_...           0.741728   \n",
       "\n",
       "   split1_test_score  mean_test_score  std_test_score  rank_test_score  \n",
       "0           0.746251          0.74399        0.002262                1  "
      ]
     },
     "execution_count": 121,
     "metadata": {},
     "output_type": "execute_result"
    }
   ],
   "source": [
    "print(\"Mejores parametros: \"+str(model_bagging.best_params_))\n",
    "print(\"Mejor Score: \"+str(model_bagging.best_score_)+'\\n')\n",
    "\n",
    "scores = pd.DataFrame(model_bagging.cv_results_)\n",
    "scores.sort_values(by=\"rank_test_score\")"
   ]
  },
  {
   "cell_type": "code",
   "execution_count": 122,
   "id": "95c7e3aa",
   "metadata": {},
   "outputs": [],
   "source": [
    "bagging_gv=model_bagging.predict(X_test)"
   ]
  },
  {
   "cell_type": "code",
   "execution_count": 123,
   "id": "768e420b",
   "metadata": {},
   "outputs": [],
   "source": [
    "bagging_result=model_bagging.score(X_test,y_test)"
   ]
  },
  {
   "cell_type": "code",
   "execution_count": 124,
   "id": "a6d81159",
   "metadata": {},
   "outputs": [
    {
     "name": "stdout",
     "output_type": "stream",
     "text": [
      "RMSE en Train es: 18369.785710939974\n",
      "RMSE en Test es: 41249.867631809\n"
     ]
    }
   ],
   "source": [
    "y_train_pred_bagging = model_bagging.predict(X_train)\n",
    "y_test_pred_bagging = model_bagging.predict(X_test)\n",
    "\n",
    "rmse_train_bagging = np.sqrt(mean_squared_error(y_train, y_train_pred_bagging))\n",
    "rmse_test_bagging = np.sqrt(mean_squared_error(y_test, y_test_pred_bagging))\n",
    "\n",
    "print(\"RMSE en Train es:\",rmse_train_bagging)\n",
    "print(\"RMSE en Test es:\",rmse_test_bagging)"
   ]
  },
  {
   "cell_type": "markdown",
   "id": "cb825ff3",
   "metadata": {},
   "source": [
    "### AdaBoostRegressor"
   ]
  },
  {
   "cell_type": "code",
   "execution_count": 125,
   "id": "5a79d59a",
   "metadata": {},
   "outputs": [],
   "source": [
    "ada_boost=AdaBoostRegressor(random_state=42)\n",
    "params_adaboost={\n",
    "    \"n_estimators\":[50],\n",
    "    \"learning_rate\":[0.1],\n",
    "    \"loss\":[\"linear\"]\n",
    "    \n",
    "}"
   ]
  },
  {
   "cell_type": "code",
   "execution_count": 126,
   "id": "a45e3d38",
   "metadata": {},
   "outputs": [
    {
     "data": {
      "text/plain": [
       "GridSearchCV(cv=2, estimator=AdaBoostRegressor(random_state=42), n_jobs=-1,\n",
       "             param_grid={'learning_rate': [0.1], 'loss': ['linear'],\n",
       "                         'n_estimators': [50]})"
      ]
     },
     "execution_count": 126,
     "metadata": {},
     "output_type": "execute_result"
    }
   ],
   "source": [
    "model_ada = GridSearchCV(ada_boost,param_grid=params_adaboost, cv=2,n_jobs=-1)\n",
    "model_ada.fit(X_train,y_train)"
   ]
  },
  {
   "cell_type": "code",
   "execution_count": 127,
   "id": "400bf95e",
   "metadata": {},
   "outputs": [
    {
     "name": "stdout",
     "output_type": "stream",
     "text": [
      "Mejores parametros: {'learning_rate': 0.1, 'loss': 'linear', 'n_estimators': 50}\n",
      "Mejor Score: 0.42915703990317394\n",
      "\n"
     ]
    },
    {
     "data": {
      "text/html": [
       "<div>\n",
       "<style scoped>\n",
       "    .dataframe tbody tr th:only-of-type {\n",
       "        vertical-align: middle;\n",
       "    }\n",
       "\n",
       "    .dataframe tbody tr th {\n",
       "        vertical-align: top;\n",
       "    }\n",
       "\n",
       "    .dataframe thead th {\n",
       "        text-align: right;\n",
       "    }\n",
       "</style>\n",
       "<table border=\"1\" class=\"dataframe\">\n",
       "  <thead>\n",
       "    <tr style=\"text-align: right;\">\n",
       "      <th></th>\n",
       "      <th>mean_fit_time</th>\n",
       "      <th>std_fit_time</th>\n",
       "      <th>mean_score_time</th>\n",
       "      <th>std_score_time</th>\n",
       "      <th>param_learning_rate</th>\n",
       "      <th>param_loss</th>\n",
       "      <th>param_n_estimators</th>\n",
       "      <th>params</th>\n",
       "      <th>split0_test_score</th>\n",
       "      <th>split1_test_score</th>\n",
       "      <th>mean_test_score</th>\n",
       "      <th>std_test_score</th>\n",
       "      <th>rank_test_score</th>\n",
       "    </tr>\n",
       "  </thead>\n",
       "  <tbody>\n",
       "    <tr>\n",
       "      <th>0</th>\n",
       "      <td>16.268028</td>\n",
       "      <td>0.095106</td>\n",
       "      <td>0.302508</td>\n",
       "      <td>0.032644</td>\n",
       "      <td>0.1</td>\n",
       "      <td>linear</td>\n",
       "      <td>50</td>\n",
       "      <td>{'learning_rate': 0.1, 'loss': 'linear', 'n_es...</td>\n",
       "      <td>0.425459</td>\n",
       "      <td>0.432855</td>\n",
       "      <td>0.429157</td>\n",
       "      <td>0.003698</td>\n",
       "      <td>1</td>\n",
       "    </tr>\n",
       "  </tbody>\n",
       "</table>\n",
       "</div>"
      ],
      "text/plain": [
       "   mean_fit_time  std_fit_time  mean_score_time  std_score_time  \\\n",
       "0      16.268028      0.095106         0.302508        0.032644   \n",
       "\n",
       "  param_learning_rate param_loss param_n_estimators  \\\n",
       "0                 0.1     linear                 50   \n",
       "\n",
       "                                              params  split0_test_score  \\\n",
       "0  {'learning_rate': 0.1, 'loss': 'linear', 'n_es...           0.425459   \n",
       "\n",
       "   split1_test_score  mean_test_score  std_test_score  rank_test_score  \n",
       "0           0.432855         0.429157        0.003698                1  "
      ]
     },
     "execution_count": 127,
     "metadata": {},
     "output_type": "execute_result"
    }
   ],
   "source": [
    "print(\"Mejores parametros: \"+str(model_ada.best_params_))\n",
    "print(\"Mejor Score: \"+str(model_ada.best_score_)+'\\n')\n",
    "\n",
    "scores = pd.DataFrame(model_ada.cv_results_)\n",
    "scores.sort_values(by=\"rank_test_score\")"
   ]
  },
  {
   "cell_type": "code",
   "execution_count": 128,
   "id": "987119ad",
   "metadata": {},
   "outputs": [],
   "source": [
    "ada_gv=model_ada.predict(X_test)"
   ]
  },
  {
   "cell_type": "code",
   "execution_count": 129,
   "id": "ebffc3ed",
   "metadata": {},
   "outputs": [],
   "source": [
    "ada_result=model_ada.score(X_test,y_test)"
   ]
  },
  {
   "cell_type": "code",
   "execution_count": 130,
   "id": "e44e04ad",
   "metadata": {},
   "outputs": [
    {
     "name": "stdout",
     "output_type": "stream",
     "text": [
      "RMSE en Train es: 67126.26660267294\n",
      "RMSE en Test es: 67681.03138253487\n"
     ]
    }
   ],
   "source": [
    "y_train_pred_ada = model_ada.predict(X_train)\n",
    "y_test_pred_ada = model_ada.predict(X_test)\n",
    "\n",
    "rmse_train_ada = np.sqrt(mean_squared_error(y_train, y_train_pred_ada))\n",
    "rmse_test_ada = np.sqrt(mean_squared_error(y_test, y_test_pred_ada))\n",
    "\n",
    "print(\"RMSE en Train es:\",rmse_train_ada)\n",
    "print(\"RMSE en Test es:\",rmse_test_ada)"
   ]
  },
  {
   "cell_type": "markdown",
   "id": "ac9b6042",
   "metadata": {},
   "source": [
    "#### StackingRegressor"
   ]
  },
  {
   "cell_type": "code",
   "execution_count": 131,
   "id": "07c99339",
   "metadata": {},
   "outputs": [],
   "source": [
    "estimadores = [\n",
    "    (\"kNN\",KNeighborsRegressor()),\n",
    "    (\"DTR\",DecisionTreeRegressor()),\n",
    "    (\"LR\",LinearRegression())\n",
    "] "
   ]
  },
  {
   "cell_type": "code",
   "execution_count": 132,
   "id": "7a13b0cf",
   "metadata": {},
   "outputs": [],
   "source": [
    "stacking =StackingRegressor(estimators=estimadores)"
   ]
  },
  {
   "cell_type": "code",
   "execution_count": 133,
   "id": "cbcb9432",
   "metadata": {},
   "outputs": [
    {
     "data": {
      "text/plain": [
       "StackingRegressor(estimators=[('kNN', KNeighborsRegressor()),\n",
       "                              ('DTR', DecisionTreeRegressor()),\n",
       "                              ('LR', LinearRegression())])"
      ]
     },
     "execution_count": 133,
     "metadata": {},
     "output_type": "execute_result"
    }
   ],
   "source": [
    "stacking.fit(X_train,y_train)"
   ]
  },
  {
   "cell_type": "code",
   "execution_count": 134,
   "id": "cb7b38d9",
   "metadata": {},
   "outputs": [],
   "source": [
    "stack_gv=stacking.predict(X_test)"
   ]
  },
  {
   "cell_type": "code",
   "execution_count": 135,
   "id": "c98ab75e",
   "metadata": {},
   "outputs": [
    {
     "data": {
      "text/plain": [
       "0.7785126711217744"
      ]
     },
     "execution_count": 135,
     "metadata": {},
     "output_type": "execute_result"
    }
   ],
   "source": [
    "stack_result=stacking.score(X_test,y_test)\n",
    "stack_result"
   ]
  },
  {
   "cell_type": "code",
   "execution_count": 136,
   "id": "e7f367c9",
   "metadata": {},
   "outputs": [
    {
     "name": "stdout",
     "output_type": "stream",
     "text": [
      "RMSE en Train es: 28812.72057114937\n",
      "RMSE en Test es: 42855.16404809961\n"
     ]
    }
   ],
   "source": [
    "y_train_pred_stack = stacking.predict(X_train)\n",
    "y_test_pred_stack = stacking.predict(X_test)\n",
    "\n",
    "rmse_train_stack = np.sqrt(mean_squared_error(y_train, y_train_pred_stack))\n",
    "rmse_test_stack = np.sqrt(mean_squared_error(y_test, y_test_pred_stack))\n",
    "\n",
    "print(\"RMSE en Train es:\",rmse_train_stack)\n",
    "print(\"RMSE en Test es:\",rmse_test_stack)"
   ]
  },
  {
   "cell_type": "markdown",
   "id": "9c750f92",
   "metadata": {},
   "source": [
    "el modelo elegido es Random forrest\n",
    "* RMSE en Train es: 15605.317706272419\n",
    "* RMSE en Test es: 39123.77088181541"
   ]
  },
  {
   "cell_type": "code",
   "execution_count": null,
   "id": "b8e078f3",
   "metadata": {},
   "outputs": [],
   "source": [
    "## Parte C"
   ]
  }
 ],
 "metadata": {
  "kernelspec": {
   "display_name": "Python 3",
   "language": "python",
   "name": "python3"
  },
  "language_info": {
   "codemirror_mode": {
    "name": "ipython",
    "version": 3
   },
   "file_extension": ".py",
   "mimetype": "text/x-python",
   "name": "python",
   "nbconvert_exporter": "python",
   "pygments_lexer": "ipython3",
   "version": "3.8.10"
  }
 },
 "nbformat": 4,
 "nbformat_minor": 5
}
